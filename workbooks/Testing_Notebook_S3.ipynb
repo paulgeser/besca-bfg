{
 "cells": [
  {
   "cell_type": "markdown",
   "metadata": {},
   "source": [
    "# Test notebook S3\n",
    "\n",
    "This notebook can be used to test a besca version to ensure that everything is still functional including S3 cloud storage.\n",
    "\n",
    "It shows some analysis results presentations and should be checked before a release."
   ]
  },
  {
   "cell_type": "code",
   "execution_count": 1,
   "metadata": {},
   "outputs": [],
   "source": [
    "import warnings\n",
    "warnings.filterwarnings(\"ignore\", message=\"numpy.dtype size changed\")"
   ]
  },
  {
   "cell_type": "code",
   "execution_count": 2,
   "metadata": {},
   "outputs": [
    {
     "name": "stderr",
     "output_type": "stream",
     "text": [
      "/pstore/home/hatjek/.conda/envs/besca_s3/lib/python3.6/site-packages/anndata/_core/anndata.py:21: FutureWarning: pandas.core.index is deprecated and will be removed in a future version.  The public classes are available in the top-level namespace.\n",
      "  from pandas.core.index import RangeIndex\n",
      "/pstore/home/hatjek/.conda/envs/besca_s3/lib/python3.6/site-packages/scanpy/api/__init__.py:6: FutureWarning: \n",
      "\n",
      "In a future version of Scanpy, `scanpy.api` will be removed.\n",
      "Simply use `import scanpy as sc` and `import scanpy.external as sce` instead.\n",
      "\n",
      "  FutureWarning,\n",
      "/pstore/home/hatjek/.conda/envs/besca_s3/lib/python3.6/site-packages/sklearn/externals/six.py:31: FutureWarning:\n",
      "\n",
      "The module is deprecated in version 0.21 and will be removed in version 0.23 since we've dropped support for Python 2.7. Please rely on the official version of six (https://pypi.org/project/six/).\n",
      "\n"
     ]
    }
   ],
   "source": [
    "import scanpy.api as sc\n",
    "import besca as bc\n",
    "import matplotlib.pyplot as plt\n",
    "import numpy as np\n",
    "import os\n",
    "import pandas as pd\n",
    "import s3fs"
   ]
  },
  {
   "cell_type": "markdown",
   "metadata": {},
   "source": [
    "# Configure output dir (local file system or S3 bucket)"
   ]
  },
  {
   "cell_type": "code",
   "execution_count": 3,
   "metadata": {},
   "outputs": [],
   "source": [
    "# Write files to local file system\n",
    "#outdir_base = '/tmp/'\n",
    "#s3_fs=s3_fs=None\n",
    "#s3_bucket=None\n",
    "\n",
    "# Write files to S3 bucket\n",
    "outdir_base = ''\n",
    "S3_PROFILE_NAME=os.environ['S3_PROFILE_NAME']\n",
    "S3_ENDPOINT_URL=os.environ['S3_ENDPOINT_URL']\n",
    "S3_BUCKET=os.environ['S3_BUCKET']\n",
    "s3_fs = s3fs.S3FileSystem(\n",
    "    anon=False, \n",
    "    profile_name=S3_PROFILE_NAME, # Use credentials from the [RSIROSS] section of ~/.aws/credentials \n",
    "    client_kwargs={'endpoint_url': S3_ENDPOINT_URL} # Set endpoint URL to ROSS\n",
    ")\n",
    "s3_bucket = S3_BUCKET"
   ]
  },
  {
   "cell_type": "markdown",
   "metadata": {},
   "source": [
    "# testing of helper functions"
   ]
  },
  {
   "cell_type": "code",
   "execution_count": 4,
   "metadata": {},
   "outputs": [],
   "source": [
    "adata = bc.datasets.pbmc3k_processed()\n",
    "adata_raw = bc.get_raw(adata)"
   ]
  },
  {
   "cell_type": "markdown",
   "metadata": {},
   "source": [
    "# testing of count functions"
   ]
  },
  {
   "cell_type": "code",
   "execution_count": 5,
   "metadata": {},
   "outputs": [],
   "source": [
    "adata = bc.datasets.pbmc_storage_processed()"
   ]
  },
  {
   "cell_type": "code",
   "execution_count": 6,
   "metadata": {},
   "outputs": [
    {
     "data": {
      "text/plain": [
       "AnnData object with n_obs × n_vars = 27901 × 1433 \n",
       "    obs: 'CELL', 'CONDITION', 'experiment', 'sample_type', 'storage_condition', 'donor', 'batch', 'n_counts', 'n_genes', 'percent_mito', 'louvain', 'celltype'\n",
       "    var: 'ENSEMBL', 'SYMBOL', 'n_cells', 'total_counts', 'frac_reads', 'mean', 'mean_log1p', 'coeffvar', 'coeffvar_log1p'\n",
       "    uns: 'donor_colors', 'louvain', 'louvain_colors', 'neighbors', 'pca', 'storage_condition_colors', 'umap'\n",
       "    obsm: 'X_pca', 'X_umap'\n",
       "    varm: 'PCs'"
      ]
     },
     "execution_count": 6,
     "metadata": {},
     "output_type": "execute_result"
    }
   ],
   "source": [
    "adata"
   ]
  },
  {
   "cell_type": "code",
   "execution_count": 7,
   "metadata": {},
   "outputs": [
    {
     "data": {
      "text/html": [
       "<div>\n",
       "<style scoped>\n",
       "    .dataframe tbody tr th:only-of-type {\n",
       "        vertical-align: middle;\n",
       "    }\n",
       "\n",
       "    .dataframe tbody tr th {\n",
       "        vertical-align: top;\n",
       "    }\n",
       "\n",
       "    .dataframe thead th {\n",
       "        text-align: right;\n",
       "    }\n",
       "</style>\n",
       "<table border=\"1\" class=\"dataframe\">\n",
       "  <thead>\n",
       "    <tr style=\"text-align: right;\">\n",
       "      <th></th>\n",
       "      <th>Donor_3A</th>\n",
       "      <th>Donor_1</th>\n",
       "      <th>Donor_2</th>\n",
       "    </tr>\n",
       "  </thead>\n",
       "  <tbody>\n",
       "    <tr>\n",
       "      <th>0</th>\n",
       "      <td>1810</td>\n",
       "      <td>1412</td>\n",
       "      <td>1018</td>\n",
       "    </tr>\n",
       "    <tr>\n",
       "      <th>1</th>\n",
       "      <td>1921</td>\n",
       "      <td>1345</td>\n",
       "      <td>901</td>\n",
       "    </tr>\n",
       "    <tr>\n",
       "      <th>10</th>\n",
       "      <td>119</td>\n",
       "      <td>121</td>\n",
       "      <td>137</td>\n",
       "    </tr>\n",
       "    <tr>\n",
       "      <th>11</th>\n",
       "      <td>70</td>\n",
       "      <td>120</td>\n",
       "      <td>46</td>\n",
       "    </tr>\n",
       "    <tr>\n",
       "      <th>12</th>\n",
       "      <td>93</td>\n",
       "      <td>31</td>\n",
       "      <td>22</td>\n",
       "    </tr>\n",
       "    <tr>\n",
       "      <th>2</th>\n",
       "      <td>1382</td>\n",
       "      <td>1499</td>\n",
       "      <td>1003</td>\n",
       "    </tr>\n",
       "    <tr>\n",
       "      <th>3</th>\n",
       "      <td>1284</td>\n",
       "      <td>655</td>\n",
       "      <td>1421</td>\n",
       "    </tr>\n",
       "    <tr>\n",
       "      <th>4</th>\n",
       "      <td>1613</td>\n",
       "      <td>989</td>\n",
       "      <td>693</td>\n",
       "    </tr>\n",
       "    <tr>\n",
       "      <th>5</th>\n",
       "      <td>1539</td>\n",
       "      <td>697</td>\n",
       "      <td>792</td>\n",
       "    </tr>\n",
       "    <tr>\n",
       "      <th>6</th>\n",
       "      <td>650</td>\n",
       "      <td>397</td>\n",
       "      <td>545</td>\n",
       "    </tr>\n",
       "    <tr>\n",
       "      <th>7</th>\n",
       "      <td>330</td>\n",
       "      <td>668</td>\n",
       "      <td>569</td>\n",
       "    </tr>\n",
       "    <tr>\n",
       "      <th>8</th>\n",
       "      <td>380</td>\n",
       "      <td>334</td>\n",
       "      <td>730</td>\n",
       "    </tr>\n",
       "    <tr>\n",
       "      <th>9</th>\n",
       "      <td>120</td>\n",
       "      <td>254</td>\n",
       "      <td>191</td>\n",
       "    </tr>\n",
       "  </tbody>\n",
       "</table>\n",
       "</div>"
      ],
      "text/plain": [
       "    Donor_3A  Donor_1  Donor_2\n",
       "0       1810     1412     1018\n",
       "1       1921     1345      901\n",
       "10       119      121      137\n",
       "11        70      120       46\n",
       "12        93       31       22\n",
       "2       1382     1499     1003\n",
       "3       1284      655     1421\n",
       "4       1613      989      693\n",
       "5       1539      697      792\n",
       "6        650      397      545\n",
       "7        330      668      569\n",
       "8        380      334      730\n",
       "9        120      254      191"
      ]
     },
     "execution_count": 7,
     "metadata": {},
     "output_type": "execute_result"
    }
   ],
   "source": [
    "bc.tl.count_occurance_subset(adata=adata, count_variable='louvain', subset_variable='donor')"
   ]
  },
  {
   "cell_type": "code",
   "execution_count": 8,
   "metadata": {},
   "outputs": [
    {
     "data": {
      "text/html": [
       "<div>\n",
       "<style scoped>\n",
       "    .dataframe tbody tr th:only-of-type {\n",
       "        vertical-align: middle;\n",
       "    }\n",
       "\n",
       "    .dataframe tbody tr th {\n",
       "        vertical-align: top;\n",
       "    }\n",
       "\n",
       "    .dataframe thead th {\n",
       "        text-align: right;\n",
       "    }\n",
       "</style>\n",
       "<table border=\"1\" class=\"dataframe\">\n",
       "  <thead>\n",
       "    <tr style=\"text-align: right;\">\n",
       "      <th></th>\n",
       "      <th>Count 24h_RT Donor_3A</th>\n",
       "      <th>Count 24h_RT Donor_1</th>\n",
       "      <th>Count 24h_RT Donor_2</th>\n",
       "      <th>Count fresh Donor_3A</th>\n",
       "      <th>Count fresh Donor_2</th>\n",
       "      <th>Count fresh Donor_1</th>\n",
       "      <th>Count frozen Donor_3A</th>\n",
       "      <th>Count frozen Donor_2</th>\n",
       "      <th>Count frozen Donor_1</th>\n",
       "    </tr>\n",
       "  </thead>\n",
       "  <tbody>\n",
       "    <tr>\n",
       "      <th>0</th>\n",
       "      <td>578</td>\n",
       "      <td>295</td>\n",
       "      <td>212</td>\n",
       "      <td>633</td>\n",
       "      <td>380</td>\n",
       "      <td>527</td>\n",
       "      <td>599</td>\n",
       "      <td>426</td>\n",
       "      <td>590</td>\n",
       "    </tr>\n",
       "    <tr>\n",
       "      <th>1</th>\n",
       "      <td>997</td>\n",
       "      <td>1006</td>\n",
       "      <td>550</td>\n",
       "      <td>824</td>\n",
       "      <td>272</td>\n",
       "      <td>233</td>\n",
       "      <td>100</td>\n",
       "      <td>79</td>\n",
       "      <td>106</td>\n",
       "    </tr>\n",
       "    <tr>\n",
       "      <th>10</th>\n",
       "      <td>49</td>\n",
       "      <td>41</td>\n",
       "      <td>46</td>\n",
       "      <td>37</td>\n",
       "      <td>41</td>\n",
       "      <td>47</td>\n",
       "      <td>33</td>\n",
       "      <td>50</td>\n",
       "      <td>33</td>\n",
       "    </tr>\n",
       "    <tr>\n",
       "      <th>11</th>\n",
       "      <td>27</td>\n",
       "      <td>30</td>\n",
       "      <td>10</td>\n",
       "      <td>26</td>\n",
       "      <td>15</td>\n",
       "      <td>33</td>\n",
       "      <td>17</td>\n",
       "      <td>21</td>\n",
       "      <td>57</td>\n",
       "    </tr>\n",
       "    <tr>\n",
       "      <th>12</th>\n",
       "      <td>54</td>\n",
       "      <td>19</td>\n",
       "      <td>4</td>\n",
       "      <td>32</td>\n",
       "      <td>9</td>\n",
       "      <td>10</td>\n",
       "      <td>7</td>\n",
       "      <td>9</td>\n",
       "      <td>2</td>\n",
       "    </tr>\n",
       "    <tr>\n",
       "      <th>2</th>\n",
       "      <td>748</td>\n",
       "      <td>1153</td>\n",
       "      <td>647</td>\n",
       "      <td>517</td>\n",
       "      <td>254</td>\n",
       "      <td>241</td>\n",
       "      <td>117</td>\n",
       "      <td>102</td>\n",
       "      <td>105</td>\n",
       "    </tr>\n",
       "    <tr>\n",
       "      <th>3</th>\n",
       "      <td>650</td>\n",
       "      <td>395</td>\n",
       "      <td>605</td>\n",
       "      <td>413</td>\n",
       "      <td>493</td>\n",
       "      <td>137</td>\n",
       "      <td>221</td>\n",
       "      <td>323</td>\n",
       "      <td>123</td>\n",
       "    </tr>\n",
       "    <tr>\n",
       "      <th>4</th>\n",
       "      <td>682</td>\n",
       "      <td>487</td>\n",
       "      <td>237</td>\n",
       "      <td>624</td>\n",
       "      <td>306</td>\n",
       "      <td>343</td>\n",
       "      <td>307</td>\n",
       "      <td>150</td>\n",
       "      <td>159</td>\n",
       "    </tr>\n",
       "    <tr>\n",
       "      <th>5</th>\n",
       "      <td>800</td>\n",
       "      <td>385</td>\n",
       "      <td>374</td>\n",
       "      <td>615</td>\n",
       "      <td>306</td>\n",
       "      <td>233</td>\n",
       "      <td>124</td>\n",
       "      <td>112</td>\n",
       "      <td>79</td>\n",
       "    </tr>\n",
       "    <tr>\n",
       "      <th>6</th>\n",
       "      <td>135</td>\n",
       "      <td>115</td>\n",
       "      <td>114</td>\n",
       "      <td>298</td>\n",
       "      <td>248</td>\n",
       "      <td>171</td>\n",
       "      <td>217</td>\n",
       "      <td>183</td>\n",
       "      <td>111</td>\n",
       "    </tr>\n",
       "    <tr>\n",
       "      <th>7</th>\n",
       "      <td>83</td>\n",
       "      <td>72</td>\n",
       "      <td>134</td>\n",
       "      <td>18</td>\n",
       "      <td>49</td>\n",
       "      <td>73</td>\n",
       "      <td>229</td>\n",
       "      <td>386</td>\n",
       "      <td>523</td>\n",
       "    </tr>\n",
       "    <tr>\n",
       "      <th>8</th>\n",
       "      <td>92</td>\n",
       "      <td>92</td>\n",
       "      <td>188</td>\n",
       "      <td>182</td>\n",
       "      <td>332</td>\n",
       "      <td>146</td>\n",
       "      <td>106</td>\n",
       "      <td>210</td>\n",
       "      <td>96</td>\n",
       "    </tr>\n",
       "    <tr>\n",
       "      <th>9</th>\n",
       "      <td>30</td>\n",
       "      <td>50</td>\n",
       "      <td>20</td>\n",
       "      <td>53</td>\n",
       "      <td>108</td>\n",
       "      <td>127</td>\n",
       "      <td>37</td>\n",
       "      <td>63</td>\n",
       "      <td>77</td>\n",
       "    </tr>\n",
       "  </tbody>\n",
       "</table>\n",
       "</div>"
      ],
      "text/plain": [
       "    Count 24h_RT Donor_3A  Count 24h_RT Donor_1  Count 24h_RT Donor_2  \\\n",
       "0                     578                   295                   212   \n",
       "1                     997                  1006                   550   \n",
       "10                     49                    41                    46   \n",
       "11                     27                    30                    10   \n",
       "12                     54                    19                     4   \n",
       "2                     748                  1153                   647   \n",
       "3                     650                   395                   605   \n",
       "4                     682                   487                   237   \n",
       "5                     800                   385                   374   \n",
       "6                     135                   115                   114   \n",
       "7                      83                    72                   134   \n",
       "8                      92                    92                   188   \n",
       "9                      30                    50                    20   \n",
       "\n",
       "    Count fresh Donor_3A  Count fresh Donor_2  Count fresh Donor_1  \\\n",
       "0                    633                  380                  527   \n",
       "1                    824                  272                  233   \n",
       "10                    37                   41                   47   \n",
       "11                    26                   15                   33   \n",
       "12                    32                    9                   10   \n",
       "2                    517                  254                  241   \n",
       "3                    413                  493                  137   \n",
       "4                    624                  306                  343   \n",
       "5                    615                  306                  233   \n",
       "6                    298                  248                  171   \n",
       "7                     18                   49                   73   \n",
       "8                    182                  332                  146   \n",
       "9                     53                  108                  127   \n",
       "\n",
       "    Count frozen Donor_3A  Count frozen Donor_2  Count frozen Donor_1  \n",
       "0                     599                   426                   590  \n",
       "1                     100                    79                   106  \n",
       "10                     33                    50                    33  \n",
       "11                     17                    21                    57  \n",
       "12                      7                     9                     2  \n",
       "2                     117                   102                   105  \n",
       "3                     221                   323                   123  \n",
       "4                     307                   150                   159  \n",
       "5                     124                   112                    79  \n",
       "6                     217                   183                   111  \n",
       "7                     229                   386                   523  \n",
       "8                     106                   210                    96  \n",
       "9                      37                    63                    77  "
      ]
     },
     "execution_count": 8,
     "metadata": {},
     "output_type": "execute_result"
    }
   ],
   "source": [
    "bc.tl.count_occurance_subset_conditions(adata, subset_variable = 'storage_condition', count_variable = 'louvain', condition_identifier = 'donor', )"
   ]
  },
  {
   "cell_type": "code",
   "execution_count": 9,
   "metadata": {},
   "outputs": [],
   "source": [
    "fig = bc.pl.celllabel_quant_boxplot(adata, count_variable = 'louvain', subset_variable = 'donor', condition_identifier = 'storage_condition',  plot_percentage = True);"
   ]
  },
  {
   "cell_type": "code",
   "execution_count": 10,
   "metadata": {},
   "outputs": [],
   "source": [
    "fig = bc.pl.celllabel_quant_stackedbar(adata, count_variable = 'louvain', subset_variable = 'donor');"
   ]
  },
  {
   "cell_type": "code",
   "execution_count": 11,
   "metadata": {},
   "outputs": [],
   "source": [
    "fig = bc.pl.louvain_quant_stackedbar(adata, subset_variable = 'donor')"
   ]
  },
  {
   "cell_type": "markdown",
   "metadata": {},
   "source": [
    "# Testing with PBMC3k Dataset"
   ]
  },
  {
   "cell_type": "code",
   "execution_count": 12,
   "metadata": {},
   "outputs": [],
   "source": [
    "adata = bc.datasets.pbmc3k_raw()"
   ]
  },
  {
   "cell_type": "code",
   "execution_count": 13,
   "metadata": {},
   "outputs": [],
   "source": [
    "#define thresholds\n",
    "min_genes = 600\n",
    "min_cells = 2\n",
    "min_UMI = 600\n",
    "max_UMI = 6500\n",
    "max_mito = 0.05\n",
    "max_genes = 1900\n",
    "\n",
    "#define outdir\n",
    "outdir = outdir_base + 'besca_test/pbmc3k/'\n",
    "\n",
    "#set randomseed\n",
    "random_seed = 0"
   ]
  },
  {
   "cell_type": "code",
   "execution_count": 14,
   "metadata": {},
   "outputs": [
    {
     "name": "stdout",
     "output_type": "stream",
     "text": [
      "adding percent mitochondrial genes to dataframe for species human\n"
     ]
    },
    {
     "name": "stderr",
     "output_type": "stream",
     "text": [
      "/pstore/data/bioinfo/users/hatjek/devel/besca_s3/besca/pl/_filter_threshold_plots.py:390: RuntimeWarning:\n",
      "\n",
      "invalid value encountered in true_divide\n",
      "\n"
     ]
    }
   ],
   "source": [
    "#visualize filtering thresholds\n",
    "fig, ((ax1, ax2, ax3), (ax4, ax5, ax6))= plt.subplots(ncols=3, nrows=2)\n",
    "fig.set_figwidth(15)\n",
    "fig.set_figheight(8)\n",
    "fig.tight_layout(pad=4.5)\n",
    "\n",
    "bc.pl.kp_genes(adata, min_genes=min_genes, ax = ax1)\n",
    "bc.pl.kp_cells(adata, min_cells=min_cells, ax = ax2)\n",
    "bc.pl.kp_counts(adata, min_counts=min_UMI, ax = ax3)\n",
    "bc.pl.max_counts(adata, max_counts=max_UMI, ax = ax4)\n",
    "bc.pl.max_mito(adata, max_mito=max_mito, annotation_type='SYMBOL', species='human', ax = ax5)\n",
    "bc.pl.max_genes(adata, max_genes=max_genes)"
   ]
  },
  {
   "cell_type": "code",
   "execution_count": 15,
   "metadata": {
    "scrolled": true
   },
   "outputs": [
    {
     "name": "stdout",
     "output_type": "stream",
     "text": [
      "started with  737280  total cells and  32738  total genes\n",
      "removed 15 cells that expressed more than 1900 genes\n",
      "removed 734965 cells that did not express at least 600  genes\n",
      "removed 4 cells that had more than 6500  counts\n",
      "removed 0 cells that did not have at least 600 counts\n",
      "removed 17843 genes that were not expressed in at least 2 cells\n",
      "removed  17  cells that expressed  5.0 percent mitochondrial genes or more\n",
      "finished with 2279  total cells and 14895 total genes\n"
     ]
    }
   ],
   "source": [
    "#perform filtering of the thresholds\n",
    "adata = bc.pp.filter(adata, max_counts=max_UMI, max_genes=max_genes, max_mito=max_mito,min_genes=min_genes, min_counts=min_UMI, min_cells=min_cells)"
   ]
  },
  {
   "cell_type": "code",
   "execution_count": 16,
   "metadata": {},
   "outputs": [],
   "source": [
    "sc.pl.violin(adata, ['n_counts', 'n_genes', 'percent_mito'], multi_panel=True, jitter = 0.4)"
   ]
  },
  {
   "cell_type": "code",
   "execution_count": 17,
   "metadata": {},
   "outputs": [],
   "source": [
    "#normalize our data (not an internal besca function)\n",
    "sc.pp.normalize_per_cell(adata, counts_per_cell_after=1e4) \n",
    "\n",
    "#log transform normalized UMI-counts (+1 offset) and store as new \"raw\" data\n",
    "adata.raw = sc.pp.log1p(adata, copy=True)"
   ]
  },
  {
   "cell_type": "code",
   "execution_count": 18,
   "metadata": {},
   "outputs": [
    {
     "name": "stdout",
     "output_type": "stream",
     "text": [
      "writing out matrix.mtx ...\n",
      "adata.X successfully written to matrix.mtx\n",
      "genes successfully written out to genes.tsv\n",
      "cellbarcodes successfully written out to barcodes.tsv\n",
      "annotation successfully written out to metadata.tsv\n",
      "CPU times: user 5.98 s, sys: 221 ms, total: 6.2 s\n",
      "Wall time: 7.42 s\n"
     ]
    }
   ],
   "source": [
    "%%time\n",
    "#export our data\n",
    "bc.export.X_to_mtx(adata=adata, outpath=os.path.join(outdir, 'analyzed', 'ANALYSIS_NAME','normalized_counts', 'cp10k'), write_metadata=True, geneannotation='SYMBOL', additional_geneannotation='ENSEMBL', s3_fs=s3_fs, s3_bucket=s3_bucket)"
   ]
  },
  {
   "cell_type": "code",
   "execution_count": 19,
   "metadata": {},
   "outputs": [
    {
     "name": "stdout",
     "output_type": "stream",
     "text": [
      "writing out matrix.mtx ...\n",
      "adata.X successfully written to matrix.mtx\n",
      "genes successfully written out to genes.tsv\n",
      "cellbarcodes successfully written out to barcodes.tsv\n",
      "annotation successfully written out to metadata.tsv\n",
      "CPU times: user 4.61 s, sys: 200 ms, total: 4.81 s\n",
      "Wall time: 6.9 s\n"
     ]
    }
   ],
   "source": [
    "%%time\n",
    "\n",
    "# Compare to local file system write out\n",
    "\n",
    "#export our data\n",
    "bc.export.X_to_mtx(adata=adata, outpath=os.path.join(outdir, 'analyzed', 'ANALYSIS_NAME','normalized_counts', 'cp10k'), write_metadata=True, geneannotation='SYMBOL', additional_geneannotation='ENSEMBL')"
   ]
  },
  {
   "cell_type": "code",
   "execution_count": 20,
   "metadata": {},
   "outputs": [
    {
     "name": "stdout",
     "output_type": "stream",
     "text": [
      "number of variable genes selected  1724\n"
     ]
    },
    {
     "name": "stderr",
     "output_type": "stream",
     "text": [
      "/pstore/home/hatjek/.conda/envs/besca_s3/lib/python3.6/site-packages/scanpy/preprocessing/_simple.py:297: UserWarning:\n",
      "\n",
      "Revieved a view of an AnnData. Making a copy.\n",
      "\n"
     ]
    }
   ],
   "source": [
    "#identify genes with variable expression\n",
    "filter_result = sc.pp.filter_genes_dispersion(adata.X, min_mean = 0.0125, max_mean=5, min_disp = 0.5) \n",
    "sc.pl.filter_genes_dispersion(filter_result)\n",
    "nbr_variable_genes = sum(filter_result.gene_subset)\n",
    "print('number of variable genes selected ', nbr_variable_genes )\n",
    "\n",
    "#apply filter on data\n",
    "adata = adata[:, filter_result.gene_subset]\n",
    "\n",
    "#log transform our data\n",
    "sc.pp.log1p(adata)\n",
    "\n",
    "#regress-out\n",
    "sc.pp.regress_out(adata, ['n_counts', 'percent_mito'])\n",
    "\n",
    "#scale data\n",
    "sc.pp.scale(adata, max_value=10)"
   ]
  },
  {
   "cell_type": "code",
   "execution_count": 21,
   "metadata": {
    "scrolled": true
   },
   "outputs": [],
   "source": [
    "sc.tl.pca(adata, random_state=random_seed, svd_solver='arpack')\n",
    "\n",
    "sc.pp.neighbors(adata, n_neighbors=10, random_state = random_seed)\n",
    "\n",
    "sc.tl.umap(adata, random_state = random_seed)\n",
    "\n",
    "sc.tl.leiden(adata, random_state = random_seed)\n",
    "\n",
    "#plot clusters\n",
    "sc.settings.set_figure_params(dpi=90)\n",
    "sc.pl.umap(adata, color=['leiden'], projection='2d', edgecolor = 'none')\n",
    "\n",
    "#also perform TSNE\n",
    "sc.tl.tsne(adata)\n",
    "sc.pl.tsne(adata, color = ['leiden'])"
   ]
  },
  {
   "cell_type": "code",
   "execution_count": 22,
   "metadata": {},
   "outputs": [
    {
     "name": "stdout",
     "output_type": "stream",
     "text": [
      "writing out matrix.mtx ...\n",
      "adata.X successfully written to matrix.mtx\n",
      "genes successfully written out to genes.tsv\n",
      "cellbarcodes successfully written out to barcodes.tsv\n",
      "annotation successfully written out to metadata.tsv\n"
     ]
    }
   ],
   "source": [
    "#write out regressed counts\n",
    "bc.export.X_to_mtx(adata, outpath=os.path.join(outdir, 'analyzed', 'ANALYSIS_NAME', 'normalized_counts', 'regressedOut'), geneannotation='SYMBOL', write_metadata= True, additional_geneannotation='ENSEMBL', s3_fs=s3_fs, s3_bucket=s3_bucket)"
   ]
  },
  {
   "cell_type": "code",
   "execution_count": 23,
   "metadata": {},
   "outputs": [],
   "source": [
    "#export values saved in .raw\n",
    "#this is an example of how to use this function, in this case we don't need it \n",
    "#bc.export.raw_to_mtx(adata, outpath=os.path.join(outdir, 'analyzed', 'ANALYSIS_NAME', 'normalized_counts', 'regressedOut_raw'), geneannotation='SYMBOL', write_metadata= True, additional_geneannotation='ENSEMBL')"
   ]
  },
  {
   "cell_type": "code",
   "execution_count": 24,
   "metadata": {},
   "outputs": [
    {
     "name": "stdout",
     "output_type": "stream",
     "text": [
      "mapping of cells to  leiden exported successfully to cell2labels.tsv\n",
      "average.gct exported successfully to file\n",
      "fract_pos.gct exported successfully to file\n",
      "labelinfo.tsv successfully written out\n"
     ]
    }
   ],
   "source": [
    "bc.export.clustering(adata, outpath = os.path.join(outdir,'analyzed', 'ANALYSIS_NAME', 'labelings', 'louvain'))\n",
    "bc.export.labeling_info(outpath=os.path.join(outdir,'analyzed', 'ANALYSIS_NAME', 'labelings', 'louvain'))"
   ]
  },
  {
   "cell_type": "code",
   "execution_count": 25,
   "metadata": {},
   "outputs": [
    {
     "name": "stdout",
     "output_type": "stream",
     "text": [
      "results successfully written out to 'analysis_metadata.tsv'\n"
     ]
    }
   ],
   "source": [
    "bc.export.analysis_metadata(adata, outpath=os.path.join(outdir,'analyzed', 'ANALYSIS_NAME'), n_pcs= 3, umap=True, tsne=True)"
   ]
  },
  {
   "cell_type": "code",
   "execution_count": 26,
   "metadata": {},
   "outputs": [],
   "source": [
    "#marker gene analysis\n",
    "sc.tl.rank_genes_groups(adata, 'leiden', method='wilcoxon', use_raw = True, n_genes = adata.raw.X.shape[1])"
   ]
  },
  {
   "cell_type": "code",
   "execution_count": 27,
   "metadata": {},
   "outputs": [
    {
     "name": "stdout",
     "output_type": "stream",
     "text": [
      "besca_test/pbmc3k/analyzed/ANALYSIS_NAME/labelings/louvain/WilxRank.gct written out\n",
      "besca_test/pbmc3k/analyzed/ANALYSIS_NAME/labelings/louvain/WilxRank.pvalues.gct written out\n",
      "besca_test/pbmc3k/analyzed/ANALYSIS_NAME/labelings/louvain/WilxRank.logFC.gct written out\n"
     ]
    }
   ],
   "source": [
    "#export rank files\n",
    "bc.export.ranked_genes(adata=adata, outpath=os.path.join(outdir,'analyzed', 'ANALYSIS_NAME', 'labelings', 'louvain'), type='wilcox')"
   ]
  },
  {
   "cell_type": "code",
   "execution_count": 28,
   "metadata": {
    "scrolled": true
   },
   "outputs": [],
   "source": [
    "#plot markers documented in Seurat tutorial to label celltypes\n",
    "sc.pl.umap(adata=adata, color = ['leiden'], edgecolor = 'none')"
   ]
  },
  {
   "cell_type": "code",
   "execution_count": 29,
   "metadata": {},
   "outputs": [],
   "source": [
    "new_labels = [\"mixed\", #0\n",
    "              \"mixed\", #1\n",
    "              \"CD14+ monocyte\", #2\n",
    "              \"mixed\", #3\n",
    "              \"B-cell\", #4\n",
    "              \"FCGR3A+ monocyte\", #5\n",
    "              \"mixed\", #6\n",
    "              \"pDC\"] #7\n",
    "\n",
    "bc.tl.annotate_cells_clustering(adata, new_labels, new_annotation_label = 'celltype', clustering_label = 'leiden')"
   ]
  },
  {
   "cell_type": "code",
   "execution_count": 30,
   "metadata": {},
   "outputs": [],
   "source": [
    "#preserve these less well defined labels for some plotting examples later on\n",
    "adata.obs['highlevel_celltype'] = adata.obs.get('celltype').tolist()"
   ]
  },
  {
   "cell_type": "code",
   "execution_count": 31,
   "metadata": {},
   "outputs": [],
   "source": [
    "\n",
    "#bc.tl.sig.combined_signature_score(adata=adata, GMT_file= '../besca/datasets/genesets/Immune.gmt', use_raw=True, verbose = False)"
   ]
  },
  {
   "cell_type": "code",
   "execution_count": 32,
   "metadata": {},
   "outputs": [],
   "source": [
    "#sc.pl.umap(adata, color= [col for col in adata.obs.columns if 'Bcell'  in col],\n",
    "#      color_map='viridis', projection='2d'\n",
    "#            )"
   ]
  },
  {
   "cell_type": "markdown",
   "metadata": {},
   "source": [
    "# Demonstrate additional BESCA features"
   ]
  },
  {
   "cell_type": "markdown",
   "metadata": {},
   "source": [
    "## reclustering and exporting new celltype annotations:\n",
    "\n",
    "you can choose clusters you wish to subcluster, here in the example 0, 1, 3, 6 since they can't easily be held appart"
   ]
  },
  {
   "cell_type": "code",
   "execution_count": 33,
   "metadata": {},
   "outputs": [
    {
     "name": "stdout",
     "output_type": "stream",
     "text": [
      "In total 1404 highly variable genes selected within cluster\n"
     ]
    }
   ],
   "source": [
    "adata_subset = bc.tl.rc.recluster(adata, celltype=('0', '1', '3', '6'), celltype_label = 'leiden',\n",
    "                                  resolution = 1.3, method='leiden')"
   ]
  },
  {
   "cell_type": "code",
   "execution_count": 34,
   "metadata": {},
   "outputs": [
    {
     "name": "stderr",
     "output_type": "stream",
     "text": [
      "... storing 'highlevel_celltype' as categorical\n"
     ]
    }
   ],
   "source": [
    "sc.pl.umap(adata_subset, color = ['leiden', 'CD3G', 'CD8A', 'CD4', 'IL7R', 'NKG7', 'GNLY'])"
   ]
  },
  {
   "cell_type": "code",
   "execution_count": 35,
   "metadata": {},
   "outputs": [
    {
     "data": {
      "text/html": [
       "<div>\n",
       "<style scoped>\n",
       "    .dataframe tbody tr th:only-of-type {\n",
       "        vertical-align: middle;\n",
       "    }\n",
       "\n",
       "    .dataframe tbody tr th {\n",
       "        vertical-align: top;\n",
       "    }\n",
       "\n",
       "    .dataframe thead th {\n",
       "        text-align: right;\n",
       "    }\n",
       "</style>\n",
       "<table border=\"1\" class=\"dataframe\">\n",
       "  <thead>\n",
       "    <tr style=\"text-align: right;\">\n",
       "      <th></th>\n",
       "      <th>CELL</th>\n",
       "      <th>CONDITION</th>\n",
       "      <th>experiment</th>\n",
       "      <th>donor</th>\n",
       "      <th>n_counts</th>\n",
       "      <th>n_genes</th>\n",
       "      <th>percent_mito</th>\n",
       "      <th>leiden</th>\n",
       "      <th>celltype</th>\n",
       "      <th>highlevel_celltype</th>\n",
       "    </tr>\n",
       "    <tr>\n",
       "      <th>index</th>\n",
       "      <th></th>\n",
       "      <th></th>\n",
       "      <th></th>\n",
       "      <th></th>\n",
       "      <th></th>\n",
       "      <th></th>\n",
       "      <th></th>\n",
       "      <th></th>\n",
       "      <th></th>\n",
       "      <th></th>\n",
       "    </tr>\n",
       "  </thead>\n",
       "  <tbody>\n",
       "    <tr>\n",
       "      <th>AAACATACAACCAC-1</th>\n",
       "      <td>AAACATACAACCAC-1</td>\n",
       "      <td>healthy PBMC</td>\n",
       "      <td>pbmc3k_besca</td>\n",
       "      <td>donor1</td>\n",
       "      <td>2421.0</td>\n",
       "      <td>781</td>\n",
       "      <td>0.030153</td>\n",
       "      <td>1</td>\n",
       "      <td>mixed</td>\n",
       "      <td>mixed</td>\n",
       "    </tr>\n",
       "    <tr>\n",
       "      <th>AAACATTGAGCTAC-1</th>\n",
       "      <td>AAACATTGAGCTAC-1</td>\n",
       "      <td>healthy PBMC</td>\n",
       "      <td>pbmc3k_besca</td>\n",
       "      <td>donor1</td>\n",
       "      <td>4903.0</td>\n",
       "      <td>1352</td>\n",
       "      <td>0.037936</td>\n",
       "      <td>3</td>\n",
       "      <td>mixed</td>\n",
       "      <td>mixed</td>\n",
       "    </tr>\n",
       "    <tr>\n",
       "      <th>AAACATTGATCAGC-1</th>\n",
       "      <td>AAACATTGATCAGC-1</td>\n",
       "      <td>healthy PBMC</td>\n",
       "      <td>pbmc3k_besca</td>\n",
       "      <td>donor1</td>\n",
       "      <td>3148.0</td>\n",
       "      <td>1131</td>\n",
       "      <td>0.008892</td>\n",
       "      <td>1</td>\n",
       "      <td>mixed</td>\n",
       "      <td>mixed</td>\n",
       "    </tr>\n",
       "    <tr>\n",
       "      <th>AAACCGTGCTTCCG-1</th>\n",
       "      <td>AAACCGTGCTTCCG-1</td>\n",
       "      <td>healthy PBMC</td>\n",
       "      <td>pbmc3k_besca</td>\n",
       "      <td>donor1</td>\n",
       "      <td>2639.0</td>\n",
       "      <td>960</td>\n",
       "      <td>0.017431</td>\n",
       "      <td>5</td>\n",
       "      <td>FCGR3A+ monocyte</td>\n",
       "      <td>FCGR3A+ monocyte</td>\n",
       "    </tr>\n",
       "    <tr>\n",
       "      <th>AAACGCACTGGTAC-1</th>\n",
       "      <td>AAACGCACTGGTAC-1</td>\n",
       "      <td>healthy PBMC</td>\n",
       "      <td>pbmc3k_besca</td>\n",
       "      <td>donor1</td>\n",
       "      <td>2163.0</td>\n",
       "      <td>782</td>\n",
       "      <td>0.016636</td>\n",
       "      <td>1</td>\n",
       "      <td>mixed</td>\n",
       "      <td>mixed</td>\n",
       "    </tr>\n",
       "  </tbody>\n",
       "</table>\n",
       "</div>"
      ],
      "text/plain": [
       "                              CELL     CONDITION    experiment   donor  \\\n",
       "index                                                                    \n",
       "AAACATACAACCAC-1  AAACATACAACCAC-1  healthy PBMC  pbmc3k_besca  donor1   \n",
       "AAACATTGAGCTAC-1  AAACATTGAGCTAC-1  healthy PBMC  pbmc3k_besca  donor1   \n",
       "AAACATTGATCAGC-1  AAACATTGATCAGC-1  healthy PBMC  pbmc3k_besca  donor1   \n",
       "AAACCGTGCTTCCG-1  AAACCGTGCTTCCG-1  healthy PBMC  pbmc3k_besca  donor1   \n",
       "AAACGCACTGGTAC-1  AAACGCACTGGTAC-1  healthy PBMC  pbmc3k_besca  donor1   \n",
       "\n",
       "                  n_counts  n_genes  percent_mito leiden          celltype  \\\n",
       "index                                                                        \n",
       "AAACATACAACCAC-1    2421.0      781      0.030153      1             mixed   \n",
       "AAACATTGAGCTAC-1    4903.0     1352      0.037936      3             mixed   \n",
       "AAACATTGATCAGC-1    3148.0     1131      0.008892      1             mixed   \n",
       "AAACCGTGCTTCCG-1    2639.0      960      0.017431      5  FCGR3A+ monocyte   \n",
       "AAACGCACTGGTAC-1    2163.0      782      0.016636      1             mixed   \n",
       "\n",
       "                 highlevel_celltype  \n",
       "index                                \n",
       "AAACATACAACCAC-1              mixed  \n",
       "AAACATTGAGCTAC-1              mixed  \n",
       "AAACATTGATCAGC-1              mixed  \n",
       "AAACCGTGCTTCCG-1   FCGR3A+ monocyte  \n",
       "AAACGCACTGGTAC-1              mixed  "
      ]
     },
     "execution_count": 35,
     "metadata": {},
     "output_type": "execute_result"
    }
   ],
   "source": [
    "adata.obs.head()"
   ]
  },
  {
   "cell_type": "code",
   "execution_count": 36,
   "metadata": {},
   "outputs": [
    {
     "name": "stdout",
     "output_type": "stream",
     "text": [
      "NOTE: overwriting labels for the selected cells saved in adata.obs.celltype with the new labels\n"
     ]
    }
   ],
   "source": [
    "new_labels = [\"CD4 T-cell\", #0\n",
    "              \"CD4 T-cell\", #1\n",
    "              \"NK cell\", #2\n",
    "              \"CD8 T-cell\", #3\n",
    "              \"CD8 T-cell\", #4\n",
    "              \"CD8 T-cell\", #5\n",
    "              \"CD4 T-cell\",#6\n",
    "              \"CD8 T-cell\", #7\n",
    "              \"CD4 T-cell\", #8\n",
    "              \"CD4 T-cell\", #9\n",
    "              \"CD4 T-cell\", #10\n",
    "              \"CD4 T-cell\",#11\n",
    "              \"CD4 T-cell\",#12\n",
    "#              \"CD4 T-cell\" #13\n",
    "             ]\n",
    "\n",
    "bc.tl.rc.annotate_new_cellnames(adata, adata_subset, names=new_labels, method='leiden')"
   ]
  },
  {
   "cell_type": "code",
   "execution_count": 37,
   "metadata": {},
   "outputs": [
    {
     "data": {
      "text/html": [
       "<div>\n",
       "<style scoped>\n",
       "    .dataframe tbody tr th:only-of-type {\n",
       "        vertical-align: middle;\n",
       "    }\n",
       "\n",
       "    .dataframe tbody tr th {\n",
       "        vertical-align: top;\n",
       "    }\n",
       "\n",
       "    .dataframe thead th {\n",
       "        text-align: right;\n",
       "    }\n",
       "</style>\n",
       "<table border=\"1\" class=\"dataframe\">\n",
       "  <thead>\n",
       "    <tr style=\"text-align: right;\">\n",
       "      <th></th>\n",
       "      <th>CELL</th>\n",
       "      <th>CONDITION</th>\n",
       "      <th>experiment</th>\n",
       "      <th>donor</th>\n",
       "      <th>n_counts</th>\n",
       "      <th>n_genes</th>\n",
       "      <th>percent_mito</th>\n",
       "      <th>leiden</th>\n",
       "      <th>celltype</th>\n",
       "      <th>highlevel_celltype</th>\n",
       "    </tr>\n",
       "    <tr>\n",
       "      <th>index</th>\n",
       "      <th></th>\n",
       "      <th></th>\n",
       "      <th></th>\n",
       "      <th></th>\n",
       "      <th></th>\n",
       "      <th></th>\n",
       "      <th></th>\n",
       "      <th></th>\n",
       "      <th></th>\n",
       "      <th></th>\n",
       "    </tr>\n",
       "  </thead>\n",
       "  <tbody>\n",
       "    <tr>\n",
       "      <th>AAACATACAACCAC-1</th>\n",
       "      <td>AAACATACAACCAC-1</td>\n",
       "      <td>healthy PBMC</td>\n",
       "      <td>pbmc3k_besca</td>\n",
       "      <td>donor1</td>\n",
       "      <td>2421.0</td>\n",
       "      <td>781</td>\n",
       "      <td>0.030153</td>\n",
       "      <td>1</td>\n",
       "      <td>CD8 T-cell</td>\n",
       "      <td>mixed</td>\n",
       "    </tr>\n",
       "    <tr>\n",
       "      <th>AAACATTGAGCTAC-1</th>\n",
       "      <td>AAACATTGAGCTAC-1</td>\n",
       "      <td>healthy PBMC</td>\n",
       "      <td>pbmc3k_besca</td>\n",
       "      <td>donor1</td>\n",
       "      <td>4903.0</td>\n",
       "      <td>1352</td>\n",
       "      <td>0.037936</td>\n",
       "      <td>3</td>\n",
       "      <td>CD4 T-cell</td>\n",
       "      <td>mixed</td>\n",
       "    </tr>\n",
       "    <tr>\n",
       "      <th>AAACATTGATCAGC-1</th>\n",
       "      <td>AAACATTGATCAGC-1</td>\n",
       "      <td>healthy PBMC</td>\n",
       "      <td>pbmc3k_besca</td>\n",
       "      <td>donor1</td>\n",
       "      <td>3148.0</td>\n",
       "      <td>1131</td>\n",
       "      <td>0.008892</td>\n",
       "      <td>1</td>\n",
       "      <td>CD4 T-cell</td>\n",
       "      <td>mixed</td>\n",
       "    </tr>\n",
       "    <tr>\n",
       "      <th>AAACCGTGCTTCCG-1</th>\n",
       "      <td>AAACCGTGCTTCCG-1</td>\n",
       "      <td>healthy PBMC</td>\n",
       "      <td>pbmc3k_besca</td>\n",
       "      <td>donor1</td>\n",
       "      <td>2639.0</td>\n",
       "      <td>960</td>\n",
       "      <td>0.017431</td>\n",
       "      <td>5</td>\n",
       "      <td>FCGR3A+ monocyte</td>\n",
       "      <td>FCGR3A+ monocyte</td>\n",
       "    </tr>\n",
       "    <tr>\n",
       "      <th>AAACGCACTGGTAC-1</th>\n",
       "      <td>AAACGCACTGGTAC-1</td>\n",
       "      <td>healthy PBMC</td>\n",
       "      <td>pbmc3k_besca</td>\n",
       "      <td>donor1</td>\n",
       "      <td>2163.0</td>\n",
       "      <td>782</td>\n",
       "      <td>0.016636</td>\n",
       "      <td>1</td>\n",
       "      <td>CD4 T-cell</td>\n",
       "      <td>mixed</td>\n",
       "    </tr>\n",
       "  </tbody>\n",
       "</table>\n",
       "</div>"
      ],
      "text/plain": [
       "                              CELL     CONDITION    experiment   donor  \\\n",
       "index                                                                    \n",
       "AAACATACAACCAC-1  AAACATACAACCAC-1  healthy PBMC  pbmc3k_besca  donor1   \n",
       "AAACATTGAGCTAC-1  AAACATTGAGCTAC-1  healthy PBMC  pbmc3k_besca  donor1   \n",
       "AAACATTGATCAGC-1  AAACATTGATCAGC-1  healthy PBMC  pbmc3k_besca  donor1   \n",
       "AAACCGTGCTTCCG-1  AAACCGTGCTTCCG-1  healthy PBMC  pbmc3k_besca  donor1   \n",
       "AAACGCACTGGTAC-1  AAACGCACTGGTAC-1  healthy PBMC  pbmc3k_besca  donor1   \n",
       "\n",
       "                  n_counts  n_genes  percent_mito leiden          celltype  \\\n",
       "index                                                                        \n",
       "AAACATACAACCAC-1    2421.0      781      0.030153      1        CD8 T-cell   \n",
       "AAACATTGAGCTAC-1    4903.0     1352      0.037936      3        CD4 T-cell   \n",
       "AAACATTGATCAGC-1    3148.0     1131      0.008892      1        CD4 T-cell   \n",
       "AAACCGTGCTTCCG-1    2639.0      960      0.017431      5  FCGR3A+ monocyte   \n",
       "AAACGCACTGGTAC-1    2163.0      782      0.016636      1        CD4 T-cell   \n",
       "\n",
       "                 highlevel_celltype  \n",
       "index                                \n",
       "AAACATACAACCAC-1              mixed  \n",
       "AAACATTGAGCTAC-1              mixed  \n",
       "AAACATTGATCAGC-1              mixed  \n",
       "AAACCGTGCTTCCG-1   FCGR3A+ monocyte  \n",
       "AAACGCACTGGTAC-1              mixed  "
      ]
     },
     "execution_count": 37,
     "metadata": {},
     "output_type": "execute_result"
    }
   ],
   "source": [
    "adata.obs.head()"
   ]
  },
  {
   "cell_type": "code",
   "execution_count": 38,
   "metadata": {},
   "outputs": [
    {
     "data": {
      "text/plain": [
       "CD4 T-cell          798\n",
       "CD8 T-cell          490\n",
       "CD14+ monocyte      365\n",
       "B-cell              255\n",
       "FCGR3A+ monocyte    189\n",
       "NK cell             168\n",
       "pDC                  14\n",
       "Name: celltype, dtype: int64"
      ]
     },
     "execution_count": 38,
     "metadata": {},
     "output_type": "execute_result"
    }
   ],
   "source": [
    "adata.obs.celltype.value_counts()"
   ]
  },
  {
   "cell_type": "code",
   "execution_count": 39,
   "metadata": {},
   "outputs": [
    {
     "name": "stdout",
     "output_type": "stream",
     "text": [
      "mapping of cells to  celltype exported successfully to cell2labels.tsv\n",
      "average.gct exported successfully to file\n",
      "fract_pos.gct exported successfully to file\n",
      "labelinfo.tsv successfully written out\n"
     ]
    }
   ],
   "source": [
    "#export celltypes\n",
    "bc.export.labeling(adata=adata, outpath = os.path.join(outdir,'analyzed', 'ANALYSIS_NAME', 'labelings', 'celltype'), column='celltype')\n",
    "bc.export.labeling_info(outpath = os.path.join(outdir,'analyzed', 'ANALYSIS_NAME', 'labelings', 'celltype'), method='manual celltype annotation based on marker expression', annotated_version_of='louvain', expert=True,default=False, public=False, reference=True, description='manual celltype annotation based on the expression of marker genes')"
   ]
  },
  {
   "cell_type": "markdown",
   "metadata": {},
   "source": [
    "## Adding an already done labeling into your adata object"
   ]
  },
  {
   "cell_type": "code",
   "execution_count": 40,
   "metadata": {},
   "outputs": [
    {
     "data": {
      "text/html": [
       "<div>\n",
       "<style scoped>\n",
       "    .dataframe tbody tr th:only-of-type {\n",
       "        vertical-align: middle;\n",
       "    }\n",
       "\n",
       "    .dataframe tbody tr th {\n",
       "        vertical-align: top;\n",
       "    }\n",
       "\n",
       "    .dataframe thead th {\n",
       "        text-align: right;\n",
       "    }\n",
       "</style>\n",
       "<table border=\"1\" class=\"dataframe\">\n",
       "  <thead>\n",
       "    <tr style=\"text-align: right;\">\n",
       "      <th></th>\n",
       "      <th>CELL</th>\n",
       "      <th>CONDITION</th>\n",
       "      <th>experiment</th>\n",
       "      <th>donor</th>\n",
       "    </tr>\n",
       "    <tr>\n",
       "      <th>index</th>\n",
       "      <th></th>\n",
       "      <th></th>\n",
       "      <th></th>\n",
       "      <th></th>\n",
       "    </tr>\n",
       "  </thead>\n",
       "  <tbody>\n",
       "    <tr>\n",
       "      <th>AAACATACAAAACG-1</th>\n",
       "      <td>AAACATACAAAACG-1</td>\n",
       "      <td>healthy PBMC</td>\n",
       "      <td>pbmc3k_besca</td>\n",
       "      <td>donor1</td>\n",
       "    </tr>\n",
       "    <tr>\n",
       "      <th>AAACATACAAAAGC-1</th>\n",
       "      <td>AAACATACAAAAGC-1</td>\n",
       "      <td>healthy PBMC</td>\n",
       "      <td>pbmc3k_besca</td>\n",
       "      <td>donor1</td>\n",
       "    </tr>\n",
       "    <tr>\n",
       "      <th>AAACATACAAACAG-1</th>\n",
       "      <td>AAACATACAAACAG-1</td>\n",
       "      <td>healthy PBMC</td>\n",
       "      <td>pbmc3k_besca</td>\n",
       "      <td>donor1</td>\n",
       "    </tr>\n",
       "    <tr>\n",
       "      <th>AAACATACAAACGA-1</th>\n",
       "      <td>AAACATACAAACGA-1</td>\n",
       "      <td>healthy PBMC</td>\n",
       "      <td>pbmc3k_besca</td>\n",
       "      <td>donor1</td>\n",
       "    </tr>\n",
       "    <tr>\n",
       "      <th>AAACATACAAAGCA-1</th>\n",
       "      <td>AAACATACAAAGCA-1</td>\n",
       "      <td>healthy PBMC</td>\n",
       "      <td>pbmc3k_besca</td>\n",
       "      <td>donor1</td>\n",
       "    </tr>\n",
       "  </tbody>\n",
       "</table>\n",
       "</div>"
      ],
      "text/plain": [
       "                              CELL     CONDITION    experiment   donor\n",
       "index                                                                 \n",
       "AAACATACAAAACG-1  AAACATACAAAACG-1  healthy PBMC  pbmc3k_besca  donor1\n",
       "AAACATACAAAAGC-1  AAACATACAAAAGC-1  healthy PBMC  pbmc3k_besca  donor1\n",
       "AAACATACAAACAG-1  AAACATACAAACAG-1  healthy PBMC  pbmc3k_besca  donor1\n",
       "AAACATACAAACGA-1  AAACATACAAACGA-1  healthy PBMC  pbmc3k_besca  donor1\n",
       "AAACATACAAAGCA-1  AAACATACAAAGCA-1  healthy PBMC  pbmc3k_besca  donor1"
      ]
     },
     "execution_count": 40,
     "metadata": {},
     "output_type": "execute_result"
    }
   ],
   "source": [
    "#note many of the entries in celltype will be named not labeled since they were filtered out before the proper labeling was performed\n",
    "adata = bc.datasets.pbmc3k_raw()\n",
    "adata.obs.head()"
   ]
  },
  {
   "cell_type": "code",
   "execution_count": 41,
   "metadata": {},
   "outputs": [],
   "source": [
    "bc.Import.add_cell_labeling(adata, os.path.join(outdir,'analyzed', 'ANALYSIS_NAME', 'labelings', 'celltype'), label='celltype')"
   ]
  },
  {
   "cell_type": "code",
   "execution_count": 42,
   "metadata": {},
   "outputs": [
    {
     "data": {
      "text/html": [
       "<div>\n",
       "<style scoped>\n",
       "    .dataframe tbody tr th:only-of-type {\n",
       "        vertical-align: middle;\n",
       "    }\n",
       "\n",
       "    .dataframe tbody tr th {\n",
       "        vertical-align: top;\n",
       "    }\n",
       "\n",
       "    .dataframe thead th {\n",
       "        text-align: right;\n",
       "    }\n",
       "</style>\n",
       "<table border=\"1\" class=\"dataframe\">\n",
       "  <thead>\n",
       "    <tr style=\"text-align: right;\">\n",
       "      <th></th>\n",
       "      <th>CELL</th>\n",
       "      <th>CONDITION</th>\n",
       "      <th>experiment</th>\n",
       "      <th>donor</th>\n",
       "      <th>celltype</th>\n",
       "    </tr>\n",
       "    <tr>\n",
       "      <th>index</th>\n",
       "      <th></th>\n",
       "      <th></th>\n",
       "      <th></th>\n",
       "      <th></th>\n",
       "      <th></th>\n",
       "    </tr>\n",
       "  </thead>\n",
       "  <tbody>\n",
       "    <tr>\n",
       "      <th>AAACATACAAAACG-1</th>\n",
       "      <td>AAACATACAAAACG-1</td>\n",
       "      <td>healthy PBMC</td>\n",
       "      <td>pbmc3k_besca</td>\n",
       "      <td>donor1</td>\n",
       "      <td>not labeled</td>\n",
       "    </tr>\n",
       "    <tr>\n",
       "      <th>AAACATACAAAAGC-1</th>\n",
       "      <td>AAACATACAAAAGC-1</td>\n",
       "      <td>healthy PBMC</td>\n",
       "      <td>pbmc3k_besca</td>\n",
       "      <td>donor1</td>\n",
       "      <td>not labeled</td>\n",
       "    </tr>\n",
       "    <tr>\n",
       "      <th>AAACATACAAACAG-1</th>\n",
       "      <td>AAACATACAAACAG-1</td>\n",
       "      <td>healthy PBMC</td>\n",
       "      <td>pbmc3k_besca</td>\n",
       "      <td>donor1</td>\n",
       "      <td>not labeled</td>\n",
       "    </tr>\n",
       "    <tr>\n",
       "      <th>AAACATACAAACGA-1</th>\n",
       "      <td>AAACATACAAACGA-1</td>\n",
       "      <td>healthy PBMC</td>\n",
       "      <td>pbmc3k_besca</td>\n",
       "      <td>donor1</td>\n",
       "      <td>not labeled</td>\n",
       "    </tr>\n",
       "    <tr>\n",
       "      <th>AAACATACAAAGCA-1</th>\n",
       "      <td>AAACATACAAAGCA-1</td>\n",
       "      <td>healthy PBMC</td>\n",
       "      <td>pbmc3k_besca</td>\n",
       "      <td>donor1</td>\n",
       "      <td>not labeled</td>\n",
       "    </tr>\n",
       "  </tbody>\n",
       "</table>\n",
       "</div>"
      ],
      "text/plain": [
       "                              CELL     CONDITION    experiment   donor  \\\n",
       "index                                                                    \n",
       "AAACATACAAAACG-1  AAACATACAAAACG-1  healthy PBMC  pbmc3k_besca  donor1   \n",
       "AAACATACAAAAGC-1  AAACATACAAAAGC-1  healthy PBMC  pbmc3k_besca  donor1   \n",
       "AAACATACAAACAG-1  AAACATACAAACAG-1  healthy PBMC  pbmc3k_besca  donor1   \n",
       "AAACATACAAACGA-1  AAACATACAAACGA-1  healthy PBMC  pbmc3k_besca  donor1   \n",
       "AAACATACAAAGCA-1  AAACATACAAAGCA-1  healthy PBMC  pbmc3k_besca  donor1   \n",
       "\n",
       "                     celltype  \n",
       "index                          \n",
       "AAACATACAAAACG-1  not labeled  \n",
       "AAACATACAAAAGC-1  not labeled  \n",
       "AAACATACAAACAG-1  not labeled  \n",
       "AAACATACAAACGA-1  not labeled  \n",
       "AAACATACAAAGCA-1  not labeled  "
      ]
     },
     "execution_count": 42,
     "metadata": {},
     "output_type": "execute_result"
    }
   ],
   "source": [
    "adata.obs.head()"
   ]
  },
  {
   "cell_type": "markdown",
   "metadata": {},
   "source": [
    "# Testing with PMBC raw dataset"
   ]
  },
  {
   "cell_type": "code",
   "execution_count": 43,
   "metadata": {},
   "outputs": [],
   "source": [
    "adata = bc.datasets.pbmc_storage_raw()"
   ]
  },
  {
   "cell_type": "code",
   "execution_count": 44,
   "metadata": {},
   "outputs": [],
   "source": [
    "#define thresholds\n",
    "min_genes = 600\n",
    "min_cells = 2\n",
    "min_UMI = 1600\n",
    "max_UMI = 15000\n",
    "max_mito = 0.15\n",
    "max_genes = 3000\n",
    "\n",
    "#define outdir\n",
    "outdir = outdir_base + 'besca_test/pbmc_storage/'\n",
    "#set randomseed\n",
    "random_seed = 0"
   ]
  },
  {
   "cell_type": "code",
   "execution_count": 45,
   "metadata": {},
   "outputs": [
    {
     "name": "stdout",
     "output_type": "stream",
     "text": [
      "adding percent mitochondrial genes to dataframe for species human\n"
     ]
    }
   ],
   "source": [
    "#visualize filtering thresholds\n",
    "fig, ((ax1, ax2, ax3), (ax4, ax5, ax6))= plt.subplots(ncols=3, nrows=2)\n",
    "fig.set_figwidth(15)\n",
    "fig.set_figheight(8)\n",
    "fig.tight_layout(pad=4.5)\n",
    "\n",
    "bc.pl.kp_genes(adata, min_genes=min_genes, ax = ax1)\n",
    "bc.pl.kp_cells(adata, min_cells=min_cells, ax = ax2)\n",
    "bc.pl.kp_counts(adata, min_counts=min_UMI, ax = ax3)\n",
    "bc.pl.max_counts(adata, max_counts=max_UMI, ax = ax4)\n",
    "bc.pl.max_mito(adata, max_mito=max_mito, annotation_type='SYMBOL', species='human', ax = ax5)\n",
    "bc.pl.max_genes(adata, max_genes=max_genes)"
   ]
  },
  {
   "cell_type": "code",
   "execution_count": 46,
   "metadata": {
    "scrolled": true
   },
   "outputs": [
    {
     "name": "stdout",
     "output_type": "stream",
     "text": [
      "started with  13066  total cells and  19883  total genes\n",
      "removed 16 cells that expressed more than 3000 genes\n",
      "removed 3178 cells that did not express at least 600  genes\n",
      "removed 4 cells that had more than 15000  counts\n",
      "removed 386 cells that did not have at least 1600 counts\n",
      "removed 4980 genes that were not expressed in at least 2 cells\n",
      "removed  29  cells that expressed  15.0 percent mitochondrial genes or more\n",
      "finished with 9453  total cells and 14903 total genes\n"
     ]
    }
   ],
   "source": [
    "#perform filtering of the thresholds\n",
    "adata = bc.pp.filter(adata, max_counts=max_UMI, max_genes=max_genes, max_mito=max_mito,min_genes=min_genes, min_counts=min_UMI, min_cells=min_cells)"
   ]
  },
  {
   "cell_type": "code",
   "execution_count": 47,
   "metadata": {},
   "outputs": [],
   "source": [
    "sc.pl.violin(adata, ['n_counts', 'n_genes', 'percent_mito'], multi_panel=True, jitter = 0.4)"
   ]
  },
  {
   "cell_type": "code",
   "execution_count": 48,
   "metadata": {},
   "outputs": [],
   "source": [
    "#normalize our data (not an internal besca function)\n",
    "sc.pp.normalize_per_cell(adata, counts_per_cell_after=1e4) \n",
    "\n",
    "#log transform normalized UMI-counts (+1 offset) and store as new \"raw\" data\n",
    "adata.raw = sc.pp.log1p(adata, copy=True)"
   ]
  },
  {
   "cell_type": "code",
   "execution_count": 49,
   "metadata": {},
   "outputs": [
    {
     "name": "stdout",
     "output_type": "stream",
     "text": [
      "writing out matrix.mtx ...\n",
      "adata.X successfully written to matrix.mtx\n",
      "genes successfully written out to genes.tsv\n",
      "cellbarcodes successfully written out to barcodes.tsv\n",
      "annotation successfully written out to metadata.tsv\n"
     ]
    }
   ],
   "source": [
    "#export our data\n",
    "bc.export.X_to_mtx(adata=adata, outpath=os.path.join(outdir, 'analyzed', 'ANALYSIS_NAME','normalized_counts', 'cp10k'), write_metadata=True, geneannotation='SYMBOL', additional_geneannotation='ENSEMBL', s3_fs=s3_fs, s3_bucket=s3_bucket)"
   ]
  },
  {
   "cell_type": "code",
   "execution_count": 50,
   "metadata": {},
   "outputs": [
    {
     "name": "stdout",
     "output_type": "stream",
     "text": [
      "number of variable genes selected  1320\n"
     ]
    },
    {
     "name": "stderr",
     "output_type": "stream",
     "text": [
      "/pstore/home/hatjek/.conda/envs/besca_s3/lib/python3.6/site-packages/scanpy/preprocessing/_simple.py:297: UserWarning:\n",
      "\n",
      "Revieved a view of an AnnData. Making a copy.\n",
      "\n"
     ]
    }
   ],
   "source": [
    "#identify genes with variable expression\n",
    "filter_result = sc.pp.filter_genes_dispersion(adata.X, min_mean = 0.0125, max_mean=5, min_disp = 0.5) \n",
    "sc.pl.filter_genes_dispersion(filter_result)\n",
    "nbr_variable_genes = sum(filter_result.gene_subset)\n",
    "print('number of variable genes selected ', nbr_variable_genes )\n",
    "\n",
    "#apply filter on data\n",
    "adata = adata[:, filter_result.gene_subset]\n",
    "\n",
    "#log transform our data\n",
    "sc.pp.log1p(adata)\n",
    "\n",
    "#regress-out\n",
    "sc.pp.regress_out(adata, ['n_counts', 'percent_mito'])\n",
    "\n",
    "#scale data\n",
    "sc.pp.scale(adata, max_value=10)"
   ]
  },
  {
   "cell_type": "code",
   "execution_count": 51,
   "metadata": {
    "scrolled": true
   },
   "outputs": [
    {
     "name": "stderr",
     "output_type": "stream",
     "text": [
      "/pstore/home/hatjek/.conda/envs/besca_s3/lib/python3.6/site-packages/numba/typed_passes.py:293: NumbaPerformanceWarning:\n",
      "\n",
      "\n",
      "The keyword argument 'parallel=True' was specified but no transformation for parallel execution was possible.\n",
      "\n",
      "To find out why, try turning on parallel diagnostics, see http://numba.pydata.org/numba-doc/latest/user/parallel.html#diagnostics for help.\n",
      "\n",
      "File \"../../../../../../../home/hatjek/.conda/envs/besca_s3/lib/python3.6/site-packages/umap/rp_tree.py\", line 135:\n",
      "@numba.njit(fastmath=True, nogil=True, parallel=True)\n",
      "def euclidean_random_projection_split(data, indices, rng_state):\n",
      "^\n",
      "\n",
      "\n",
      "/pstore/home/hatjek/.conda/envs/besca_s3/lib/python3.6/site-packages/umap/nndescent.py:92: NumbaPerformanceWarning:\n",
      "\n",
      "\n",
      "The keyword argument 'parallel=True' was specified but no transformation for parallel execution was possible.\n",
      "\n",
      "To find out why, try turning on parallel diagnostics, see http://numba.pydata.org/numba-doc/latest/user/parallel.html#diagnostics for help.\n",
      "\n",
      "File \"../../../../../../../home/hatjek/.conda/envs/besca_s3/lib/python3.6/site-packages/umap/utils.py\", line 409:\n",
      "@numba.njit(parallel=True)\n",
      "def build_candidates(current_graph, n_vertices, n_neighbors, max_candidates, rng_state):\n",
      "^\n",
      "\n",
      "\n",
      "/pstore/home/hatjek/.conda/envs/besca_s3/lib/python3.6/site-packages/numba/typed_passes.py:293: NumbaPerformanceWarning:\n",
      "\n",
      "\n",
      "The keyword argument 'parallel=True' was specified but no transformation for parallel execution was possible.\n",
      "\n",
      "To find out why, try turning on parallel diagnostics, see http://numba.pydata.org/numba-doc/latest/user/parallel.html#diagnostics for help.\n",
      "\n",
      "File \"../../../../../../../home/hatjek/.conda/envs/besca_s3/lib/python3.6/site-packages/umap/nndescent.py\", line 47:\n",
      "    @numba.njit(parallel=True)\n",
      "    def nn_descent(\n",
      "    ^\n",
      "\n",
      "\n"
     ]
    }
   ],
   "source": [
    "sc.tl.pca(adata, random_state=random_seed, svd_solver='arpack')\n",
    "\n",
    "sc.pp.neighbors(adata, n_neighbors=10, random_state = random_seed)\n",
    "\n",
    "sc.tl.umap(adata, random_state = random_seed)\n",
    "\n",
    "sc.tl.louvain(adata, random_state = random_seed)\n",
    "\n",
    "#plot clusters\n",
    "sc.settings.set_figure_params(dpi=90)\n",
    "sc.pl.umap(adata, color=['louvain'], projection='2d', edgecolor = 'none')\n",
    "\n",
    "#also perform TSNE\n",
    "sc.tl.tsne(adata)\n",
    "sc.pl.tsne(adata, color = ['louvain'])"
   ]
  },
  {
   "cell_type": "code",
   "execution_count": 52,
   "metadata": {},
   "outputs": [
    {
     "name": "stdout",
     "output_type": "stream",
     "text": [
      "writing out matrix.mtx ...\n",
      "adata.X successfully written to matrix.mtx\n",
      "genes successfully written out to genes.tsv\n",
      "cellbarcodes successfully written out to barcodes.tsv\n",
      "annotation successfully written out to metadata.tsv\n"
     ]
    }
   ],
   "source": [
    "#write out regressed counts\n",
    "# THIS IS SLOW\n",
    "bc.export.X_to_mtx(adata, outpath=os.path.join(outdir, 'analyzed', 'ANALYSIS_NAME', 'normalized_counts', 'regressedOut'), geneannotation='SYMBOL', write_metadata= True, additional_geneannotation='ENSEMBL', s3_fs=s3_fs, s3_bucket=s3_bucket)"
   ]
  },
  {
   "cell_type": "code",
   "execution_count": 53,
   "metadata": {},
   "outputs": [],
   "source": [
    "#export values saved in .raw\n",
    "#this is an example of how to use this function, in this case we don't need it \n",
    "#bc.export.raw_to_mtx(adata, outpath=os.path.join(outdir, 'analyzed', 'ANALYSIS_NAME', 'normalized_counts', 'regressedOut_raw'), geneannotation='SYMBOL', write_metadata= True, additional_geneannotation='ENSEMBL')"
   ]
  },
  {
   "cell_type": "code",
   "execution_count": 54,
   "metadata": {},
   "outputs": [
    {
     "name": "stdout",
     "output_type": "stream",
     "text": [
      "mapping of cells to  louvain exported successfully to cell2labels.tsv\n",
      "average.gct exported successfully to file\n",
      "fract_pos.gct exported successfully to file\n",
      "labelinfo.tsv successfully written out\n"
     ]
    }
   ],
   "source": [
    "bc.export.louvain(adata, outpath = os.path.join(outdir,'analyzed', 'ANALYSIS_NAME', 'labelings', 'louvain'))\n",
    "bc.export.labeling_info(outpath=os.path.join(outdir,'analyzed', 'ANALYSIS_NAME', 'labelings', 'louvain'))"
   ]
  },
  {
   "cell_type": "code",
   "execution_count": 55,
   "metadata": {},
   "outputs": [
    {
     "name": "stdout",
     "output_type": "stream",
     "text": [
      "results successfully written out to 'analysis_metadata.tsv'\n"
     ]
    }
   ],
   "source": [
    "bc.export.analysis_metadata(adata, outpath=os.path.join(outdir,'analyzed', 'ANALYSIS_NAME'), n_pcs= 3, umap=True, tsne=True)"
   ]
  },
  {
   "cell_type": "code",
   "execution_count": 56,
   "metadata": {},
   "outputs": [],
   "source": [
    "#marker gene analysis\n",
    "sc.tl.rank_genes_groups(adata, 'louvain', method='wilcoxon', use_raw = True, n_genes = adata.raw.X.shape[1])"
   ]
  },
  {
   "cell_type": "code",
   "execution_count": 57,
   "metadata": {},
   "outputs": [
    {
     "name": "stdout",
     "output_type": "stream",
     "text": [
      "besca_test/pbmc_storage/analyzed/ANALYSIS_NAME/labelings/louvain/WilxRank.gct written out\n",
      "besca_test/pbmc_storage/analyzed/ANALYSIS_NAME/labelings/louvain/WilxRank.pvalues.gct written out\n",
      "besca_test/pbmc_storage/analyzed/ANALYSIS_NAME/labelings/louvain/WilxRank.logFC.gct written out\n"
     ]
    }
   ],
   "source": [
    "#export rank files\n",
    "bc.export.ranked_genes(adata=adata, outpath=os.path.join(outdir,'analyzed', 'ANALYSIS_NAME', 'labelings', 'louvain'), type='wilcox')"
   ]
  },
  {
   "cell_type": "code",
   "execution_count": 58,
   "metadata": {
    "scrolled": true
   },
   "outputs": [],
   "source": [
    "#plot markers documented in Seurat tutorial to label celltypes\n",
    "sc.pl.umap(adata=adata, color = ['louvain'], edgecolor = 'none')"
   ]
  },
  {
   "cell_type": "markdown",
   "metadata": {},
   "source": [
    "## Counting occurances of labels and have matching colors with the UMAP."
   ]
  },
  {
   "cell_type": "code",
   "execution_count": 59,
   "metadata": {},
   "outputs": [
    {
     "data": {
      "text/html": [
       "<div>\n",
       "<style scoped>\n",
       "    .dataframe tbody tr th:only-of-type {\n",
       "        vertical-align: middle;\n",
       "    }\n",
       "\n",
       "    .dataframe tbody tr th {\n",
       "        vertical-align: top;\n",
       "    }\n",
       "\n",
       "    .dataframe thead th {\n",
       "        text-align: right;\n",
       "    }\n",
       "</style>\n",
       "<table border=\"1\" class=\"dataframe\">\n",
       "  <thead>\n",
       "    <tr style=\"text-align: right;\">\n",
       "      <th></th>\n",
       "      <th>Counts</th>\n",
       "      <th>Percentage</th>\n",
       "    </tr>\n",
       "  </thead>\n",
       "  <tbody>\n",
       "    <tr>\n",
       "      <th>0</th>\n",
       "      <td>972</td>\n",
       "      <td>10.28</td>\n",
       "    </tr>\n",
       "    <tr>\n",
       "      <th>1</th>\n",
       "      <td>907</td>\n",
       "      <td>9.59</td>\n",
       "    </tr>\n",
       "    <tr>\n",
       "      <th>2</th>\n",
       "      <td>822</td>\n",
       "      <td>8.70</td>\n",
       "    </tr>\n",
       "    <tr>\n",
       "      <th>3</th>\n",
       "      <td>809</td>\n",
       "      <td>8.56</td>\n",
       "    </tr>\n",
       "    <tr>\n",
       "      <th>4</th>\n",
       "      <td>744</td>\n",
       "      <td>7.87</td>\n",
       "    </tr>\n",
       "    <tr>\n",
       "      <th>5</th>\n",
       "      <td>616</td>\n",
       "      <td>6.52</td>\n",
       "    </tr>\n",
       "    <tr>\n",
       "      <th>6</th>\n",
       "      <td>563</td>\n",
       "      <td>5.96</td>\n",
       "    </tr>\n",
       "    <tr>\n",
       "      <th>7</th>\n",
       "      <td>560</td>\n",
       "      <td>5.92</td>\n",
       "    </tr>\n",
       "    <tr>\n",
       "      <th>8</th>\n",
       "      <td>537</td>\n",
       "      <td>5.68</td>\n",
       "    </tr>\n",
       "    <tr>\n",
       "      <th>9</th>\n",
       "      <td>527</td>\n",
       "      <td>5.57</td>\n",
       "    </tr>\n",
       "    <tr>\n",
       "      <th>10</th>\n",
       "      <td>513</td>\n",
       "      <td>5.43</td>\n",
       "    </tr>\n",
       "    <tr>\n",
       "      <th>11</th>\n",
       "      <td>498</td>\n",
       "      <td>5.27</td>\n",
       "    </tr>\n",
       "    <tr>\n",
       "      <th>12</th>\n",
       "      <td>384</td>\n",
       "      <td>4.06</td>\n",
       "    </tr>\n",
       "    <tr>\n",
       "      <th>13</th>\n",
       "      <td>366</td>\n",
       "      <td>3.87</td>\n",
       "    </tr>\n",
       "    <tr>\n",
       "      <th>14</th>\n",
       "      <td>260</td>\n",
       "      <td>2.75</td>\n",
       "    </tr>\n",
       "    <tr>\n",
       "      <th>15</th>\n",
       "      <td>144</td>\n",
       "      <td>1.52</td>\n",
       "    </tr>\n",
       "    <tr>\n",
       "      <th>16</th>\n",
       "      <td>100</td>\n",
       "      <td>1.06</td>\n",
       "    </tr>\n",
       "    <tr>\n",
       "      <th>17</th>\n",
       "      <td>76</td>\n",
       "      <td>0.80</td>\n",
       "    </tr>\n",
       "    <tr>\n",
       "      <th>18</th>\n",
       "      <td>55</td>\n",
       "      <td>0.58</td>\n",
       "    </tr>\n",
       "  </tbody>\n",
       "</table>\n",
       "</div>"
      ],
      "text/plain": [
       "    Counts  Percentage\n",
       "0      972       10.28\n",
       "1      907        9.59\n",
       "2      822        8.70\n",
       "3      809        8.56\n",
       "4      744        7.87\n",
       "5      616        6.52\n",
       "6      563        5.96\n",
       "7      560        5.92\n",
       "8      537        5.68\n",
       "9      527        5.57\n",
       "10     513        5.43\n",
       "11     498        5.27\n",
       "12     384        4.06\n",
       "13     366        3.87\n",
       "14     260        2.75\n",
       "15     144        1.52\n",
       "16     100        1.06\n",
       "17      76        0.80\n",
       "18      55        0.58"
      ]
     },
     "metadata": {},
     "output_type": "display_data"
    }
   ],
   "source": [
    "#generate a count table of the chosen count_variable\n",
    "counts = bc.tl.count_occurance(adata=adata, count_variable='louvain', add_percentage=True)\n",
    "display(counts)"
   ]
  },
  {
   "cell_type": "code",
   "execution_count": 60,
   "metadata": {},
   "outputs": [],
   "source": [
    "ncolors = ( counts.shape)[0]"
   ]
  },
  {
   "cell_type": "code",
   "execution_count": 61,
   "metadata": {},
   "outputs": [
    {
     "data": {
      "text/plain": [
       "(array([ 0,  1,  2,  3,  4,  5,  6,  7,  8,  9, 10, 11, 12, 13, 14, 15, 16,\n",
       "        17, 18]),\n",
       " <a list of 19 Text major ticklabel objects>)"
      ]
     },
     "execution_count": 61,
     "metadata": {},
     "output_type": "execute_result"
    }
   ],
   "source": [
    "import seaborn as sns\n",
    "#generate a basic bar plot of the table above with customed palette\n",
    "current_palette ={str(i): sns.color_palette('colorblind', ncolors)[i] for i in range(ncolors)}\n",
    "fig = plt.figure(figsize=(15, 6))\n",
    "\n",
    "ax1 = fig.add_subplot(1, 2, 1)\n",
    "ax1 = sns.barplot(data=counts, x=counts.index.tolist(), y='Counts', palette = current_palette)\n",
    "plt.xticks(rotation=90)\n",
    "\n",
    "ax2 = fig.add_subplot(1, 2, 2)\n",
    "ax2 = sns.barplot(data=counts, x=counts.index.tolist(), y='Percentage', palette = current_palette)\n",
    "plt.xticks(rotation=90)\n"
   ]
  },
  {
   "cell_type": "code",
   "execution_count": 62,
   "metadata": {},
   "outputs": [],
   "source": [
    "# Matching those with the UMAP colors\n",
    "bc.pl.update_qualitative_palette( adata, palette=current_palette, group = 'louvain', checkColors=True)\n",
    "#plot markers documented in Seurat tutorial to label celltypes\n",
    "sc.pl.umap(adata=adata, color = ['louvain'], edgecolor = 'none')"
   ]
  },
  {
   "cell_type": "code",
   "execution_count": 63,
   "metadata": {},
   "outputs": [
    {
     "data": {
      "text/plain": [
       "AnnData object with n_obs × n_vars = 9453 × 1320 \n",
       "    obs: 'CELL', 'CONDITION', 'experiment', 'sample_type', 'storage_condition', 'donor', 'batch', 'n_counts', 'n_genes', 'percent_mito', 'louvain'\n",
       "    var: 'ENSEMBL', 'SYMBOL', 'n_cells'\n",
       "    uns: 'log1p', 'pca', 'neighbors', 'umap', 'louvain', 'louvain_colors', 'rank_genes_groups'\n",
       "    obsm: 'X_pca', 'X_umap', 'X_tsne'\n",
       "    varm: 'PCs'"
      ]
     },
     "execution_count": 63,
     "metadata": {},
     "output_type": "execute_result"
    }
   ],
   "source": [
    "adata"
   ]
  },
  {
   "cell_type": "code",
   "execution_count": 64,
   "metadata": {},
   "outputs": [
    {
     "data": {
      "text/plain": [
       "24h_RT    4190\n",
       "fresh     3121\n",
       "frozen    2142\n",
       "Name: storage_condition, dtype: int64"
      ]
     },
     "execution_count": 64,
     "metadata": {},
     "output_type": "execute_result"
    }
   ],
   "source": [
    "adata.obs.storage_condition.value_counts()"
   ]
  },
  {
   "cell_type": "code",
   "execution_count": 65,
   "metadata": {},
   "outputs": [
    {
     "data": {
      "text/html": [
       "<div>\n",
       "<style scoped>\n",
       "    .dataframe tbody tr th:only-of-type {\n",
       "        vertical-align: middle;\n",
       "    }\n",
       "\n",
       "    .dataframe tbody tr th {\n",
       "        vertical-align: top;\n",
       "    }\n",
       "\n",
       "    .dataframe thead th {\n",
       "        text-align: right;\n",
       "    }\n",
       "</style>\n",
       "<table border=\"1\" class=\"dataframe\">\n",
       "  <thead>\n",
       "    <tr style=\"text-align: right;\">\n",
       "      <th></th>\n",
       "      <th>Percentage 24h_RT 24h_RT</th>\n",
       "      <th>Percentage fresh fresh</th>\n",
       "      <th>Percentage frozen frozen</th>\n",
       "    </tr>\n",
       "  </thead>\n",
       "  <tbody>\n",
       "    <tr>\n",
       "      <th>0</th>\n",
       "      <td>0.48</td>\n",
       "      <td>29.19</td>\n",
       "      <td>1.91</td>\n",
       "    </tr>\n",
       "    <tr>\n",
       "      <th>1</th>\n",
       "      <td>20.48</td>\n",
       "      <td>0.16</td>\n",
       "      <td>2.05</td>\n",
       "    </tr>\n",
       "    <tr>\n",
       "      <th>10</th>\n",
       "      <td>12.05</td>\n",
       "      <td>0.13</td>\n",
       "      <td>0.19</td>\n",
       "    </tr>\n",
       "    <tr>\n",
       "      <th>11</th>\n",
       "      <td>0.19</td>\n",
       "      <td>0.00</td>\n",
       "      <td>22.88</td>\n",
       "    </tr>\n",
       "    <tr>\n",
       "      <th>12</th>\n",
       "      <td>4.58</td>\n",
       "      <td>5.86</td>\n",
       "      <td>0.42</td>\n",
       "    </tr>\n",
       "    <tr>\n",
       "      <th>13</th>\n",
       "      <td>8.69</td>\n",
       "      <td>0.00</td>\n",
       "      <td>0.09</td>\n",
       "    </tr>\n",
       "    <tr>\n",
       "      <th>14</th>\n",
       "      <td>0.02</td>\n",
       "      <td>0.00</td>\n",
       "      <td>12.09</td>\n",
       "    </tr>\n",
       "    <tr>\n",
       "      <th>15</th>\n",
       "      <td>0.02</td>\n",
       "      <td>3.04</td>\n",
       "      <td>2.24</td>\n",
       "    </tr>\n",
       "    <tr>\n",
       "      <th>16</th>\n",
       "      <td>0.88</td>\n",
       "      <td>1.28</td>\n",
       "      <td>1.07</td>\n",
       "    </tr>\n",
       "    <tr>\n",
       "      <th>17</th>\n",
       "      <td>0.53</td>\n",
       "      <td>0.74</td>\n",
       "      <td>1.45</td>\n",
       "    </tr>\n",
       "    <tr>\n",
       "      <th>18</th>\n",
       "      <td>0.64</td>\n",
       "      <td>0.70</td>\n",
       "      <td>0.28</td>\n",
       "    </tr>\n",
       "    <tr>\n",
       "      <th>2</th>\n",
       "      <td>0.21</td>\n",
       "      <td>0.00</td>\n",
       "      <td>37.96</td>\n",
       "    </tr>\n",
       "    <tr>\n",
       "      <th>3</th>\n",
       "      <td>19.14</td>\n",
       "      <td>0.00</td>\n",
       "      <td>0.33</td>\n",
       "    </tr>\n",
       "    <tr>\n",
       "      <th>4</th>\n",
       "      <td>17.68</td>\n",
       "      <td>0.03</td>\n",
       "      <td>0.09</td>\n",
       "    </tr>\n",
       "    <tr>\n",
       "      <th>5</th>\n",
       "      <td>1.29</td>\n",
       "      <td>17.08</td>\n",
       "      <td>1.35</td>\n",
       "    </tr>\n",
       "    <tr>\n",
       "      <th>6</th>\n",
       "      <td>0.21</td>\n",
       "      <td>12.27</td>\n",
       "      <td>7.98</td>\n",
       "    </tr>\n",
       "    <tr>\n",
       "      <th>7</th>\n",
       "      <td>0.00</td>\n",
       "      <td>16.37</td>\n",
       "      <td>2.29</td>\n",
       "    </tr>\n",
       "    <tr>\n",
       "      <th>8</th>\n",
       "      <td>12.60</td>\n",
       "      <td>0.13</td>\n",
       "      <td>0.23</td>\n",
       "    </tr>\n",
       "    <tr>\n",
       "      <th>9</th>\n",
       "      <td>0.29</td>\n",
       "      <td>13.01</td>\n",
       "      <td>5.09</td>\n",
       "    </tr>\n",
       "  </tbody>\n",
       "</table>\n",
       "</div>"
      ],
      "text/plain": [
       "    Percentage 24h_RT 24h_RT  Percentage fresh fresh  Percentage frozen frozen\n",
       "0                       0.48                   29.19                      1.91\n",
       "1                      20.48                    0.16                      2.05\n",
       "10                     12.05                    0.13                      0.19\n",
       "11                      0.19                    0.00                     22.88\n",
       "12                      4.58                    5.86                      0.42\n",
       "13                      8.69                    0.00                      0.09\n",
       "14                      0.02                    0.00                     12.09\n",
       "15                      0.02                    3.04                      2.24\n",
       "16                      0.88                    1.28                      1.07\n",
       "17                      0.53                    0.74                      1.45\n",
       "18                      0.64                    0.70                      0.28\n",
       "2                       0.21                    0.00                     37.96\n",
       "3                      19.14                    0.00                      0.33\n",
       "4                      17.68                    0.03                      0.09\n",
       "5                       1.29                   17.08                      1.35\n",
       "6                       0.21                   12.27                      7.98\n",
       "7                       0.00                   16.37                      2.29\n",
       "8                      12.60                    0.13                      0.23\n",
       "9                       0.29                   13.01                      5.09"
      ]
     },
     "metadata": {},
     "output_type": "display_data"
    }
   ],
   "source": [
    "# compare counts between two 'conditions' and output as a classic dataframe\n",
    "(DF) = bc.tl.count_occurance_subset_conditions(adata=adata,\n",
    "                                                                subset_variable= 'storage_condition',\n",
    "                                                                condition_identifier='storage_condition',\n",
    "                                                                count_variable='louvain',\n",
    "                                                                return_percentage=True)\n",
    "display(DF)"
   ]
  },
  {
   "cell_type": "code",
   "execution_count": 66,
   "metadata": {},
   "outputs": [
    {
     "data": {
      "text/html": [
       "<div>\n",
       "<style scoped>\n",
       "    .dataframe tbody tr th:only-of-type {\n",
       "        vertical-align: middle;\n",
       "    }\n",
       "\n",
       "    .dataframe tbody tr th {\n",
       "        vertical-align: top;\n",
       "    }\n",
       "\n",
       "    .dataframe thead th {\n",
       "        text-align: right;\n",
       "    }\n",
       "</style>\n",
       "<table border=\"1\" class=\"dataframe\">\n",
       "  <thead>\n",
       "    <tr style=\"text-align: right;\">\n",
       "      <th></th>\n",
       "      <th>CELL</th>\n",
       "      <th>CONDITION</th>\n",
       "      <th>experiment</th>\n",
       "      <th>sample_type</th>\n",
       "      <th>storage_condition</th>\n",
       "      <th>donor</th>\n",
       "      <th>batch</th>\n",
       "      <th>n_counts</th>\n",
       "      <th>n_genes</th>\n",
       "      <th>percent_mito</th>\n",
       "      <th>louvain</th>\n",
       "    </tr>\n",
       "    <tr>\n",
       "      <th>index</th>\n",
       "      <th></th>\n",
       "      <th></th>\n",
       "      <th></th>\n",
       "      <th></th>\n",
       "      <th></th>\n",
       "      <th></th>\n",
       "      <th></th>\n",
       "      <th></th>\n",
       "      <th></th>\n",
       "      <th></th>\n",
       "      <th></th>\n",
       "    </tr>\n",
       "  </thead>\n",
       "  <tbody>\n",
       "    <tr>\n",
       "      <th>6.6K_inhouse_Donor_3A_24h_RT.GGCAATTCAGACGCCT-1</th>\n",
       "      <td>6.6K_inhouse_Donor_3A_24h_RT.GGCAATTCAGACGCCT-1</td>\n",
       "      <td>PBMC_healthy</td>\n",
       "      <td>6.6k_healthy_pbmc_storage_effects_inhouse</td>\n",
       "      <td>PBMC</td>\n",
       "      <td>24h_RT</td>\n",
       "      <td>Donor_3A</td>\n",
       "      <td>flowcell1</td>\n",
       "      <td>2664.0</td>\n",
       "      <td>867</td>\n",
       "      <td>0.046547</td>\n",
       "      <td>8</td>\n",
       "    </tr>\n",
       "    <tr>\n",
       "      <th>6.6K_inhouse_Donor_2_FROZEN.CGGCTAGAGCTATGCT-1</th>\n",
       "      <td>6.6K_inhouse_Donor_2_FROZEN.CGGCTAGAGCTATGCT-1</td>\n",
       "      <td>PBMC_healthy</td>\n",
       "      <td>6.6k_healthy_pbmc_storage_effects_inhouse</td>\n",
       "      <td>PBMC</td>\n",
       "      <td>frozen</td>\n",
       "      <td>Donor_2</td>\n",
       "      <td>flowcell1</td>\n",
       "      <td>2057.0</td>\n",
       "      <td>724</td>\n",
       "      <td>0.032572</td>\n",
       "      <td>2</td>\n",
       "    </tr>\n",
       "    <tr>\n",
       "      <th>6.6K_inhouse_Donor_3A_FROZEN.GCGCGATAGTTCGATC-1</th>\n",
       "      <td>6.6K_inhouse_Donor_3A_FROZEN.GCGCGATAGTTCGATC-1</td>\n",
       "      <td>PBMC_healthy</td>\n",
       "      <td>6.6k_healthy_pbmc_storage_effects_inhouse</td>\n",
       "      <td>PBMC</td>\n",
       "      <td>frozen</td>\n",
       "      <td>Donor_3A</td>\n",
       "      <td>flowcell1</td>\n",
       "      <td>4468.0</td>\n",
       "      <td>1144</td>\n",
       "      <td>0.017010</td>\n",
       "      <td>2</td>\n",
       "    </tr>\n",
       "    <tr>\n",
       "      <th>6.6K_inhouse_Donor_2_24h_RT.TACCTTAGTTCACGGC-1</th>\n",
       "      <td>6.6K_inhouse_Donor_2_24h_RT.TACCTTAGTTCACGGC-1</td>\n",
       "      <td>PBMC_healthy</td>\n",
       "      <td>6.6k_healthy_pbmc_storage_effects_inhouse</td>\n",
       "      <td>PBMC</td>\n",
       "      <td>24h_RT</td>\n",
       "      <td>Donor_2</td>\n",
       "      <td>flowcell1</td>\n",
       "      <td>2723.0</td>\n",
       "      <td>1009</td>\n",
       "      <td>0.053985</td>\n",
       "      <td>5</td>\n",
       "    </tr>\n",
       "    <tr>\n",
       "      <th>6.6K_inhouse_Donor_2_24h_RT.AACTCTTCAAGTTCTG-1</th>\n",
       "      <td>6.6K_inhouse_Donor_2_24h_RT.AACTCTTCAAGTTCTG-1</td>\n",
       "      <td>PBMC_healthy</td>\n",
       "      <td>6.6k_healthy_pbmc_storage_effects_inhouse</td>\n",
       "      <td>PBMC</td>\n",
       "      <td>24h_RT</td>\n",
       "      <td>Donor_2</td>\n",
       "      <td>flowcell1</td>\n",
       "      <td>10092.0</td>\n",
       "      <td>1941</td>\n",
       "      <td>0.033987</td>\n",
       "      <td>16</td>\n",
       "    </tr>\n",
       "  </tbody>\n",
       "</table>\n",
       "</div>"
      ],
      "text/plain": [
       "                                                                                            CELL  \\\n",
       "index                                                                                              \n",
       "6.6K_inhouse_Donor_3A_24h_RT.GGCAATTCAGACGCCT-1  6.6K_inhouse_Donor_3A_24h_RT.GGCAATTCAGACGCCT-1   \n",
       "6.6K_inhouse_Donor_2_FROZEN.CGGCTAGAGCTATGCT-1    6.6K_inhouse_Donor_2_FROZEN.CGGCTAGAGCTATGCT-1   \n",
       "6.6K_inhouse_Donor_3A_FROZEN.GCGCGATAGTTCGATC-1  6.6K_inhouse_Donor_3A_FROZEN.GCGCGATAGTTCGATC-1   \n",
       "6.6K_inhouse_Donor_2_24h_RT.TACCTTAGTTCACGGC-1    6.6K_inhouse_Donor_2_24h_RT.TACCTTAGTTCACGGC-1   \n",
       "6.6K_inhouse_Donor_2_24h_RT.AACTCTTCAAGTTCTG-1    6.6K_inhouse_Donor_2_24h_RT.AACTCTTCAAGTTCTG-1   \n",
       "\n",
       "                                                    CONDITION  \\\n",
       "index                                                           \n",
       "6.6K_inhouse_Donor_3A_24h_RT.GGCAATTCAGACGCCT-1  PBMC_healthy   \n",
       "6.6K_inhouse_Donor_2_FROZEN.CGGCTAGAGCTATGCT-1   PBMC_healthy   \n",
       "6.6K_inhouse_Donor_3A_FROZEN.GCGCGATAGTTCGATC-1  PBMC_healthy   \n",
       "6.6K_inhouse_Donor_2_24h_RT.TACCTTAGTTCACGGC-1   PBMC_healthy   \n",
       "6.6K_inhouse_Donor_2_24h_RT.AACTCTTCAAGTTCTG-1   PBMC_healthy   \n",
       "\n",
       "                                                                                experiment  \\\n",
       "index                                                                                        \n",
       "6.6K_inhouse_Donor_3A_24h_RT.GGCAATTCAGACGCCT-1  6.6k_healthy_pbmc_storage_effects_inhouse   \n",
       "6.6K_inhouse_Donor_2_FROZEN.CGGCTAGAGCTATGCT-1   6.6k_healthy_pbmc_storage_effects_inhouse   \n",
       "6.6K_inhouse_Donor_3A_FROZEN.GCGCGATAGTTCGATC-1  6.6k_healthy_pbmc_storage_effects_inhouse   \n",
       "6.6K_inhouse_Donor_2_24h_RT.TACCTTAGTTCACGGC-1   6.6k_healthy_pbmc_storage_effects_inhouse   \n",
       "6.6K_inhouse_Donor_2_24h_RT.AACTCTTCAAGTTCTG-1   6.6k_healthy_pbmc_storage_effects_inhouse   \n",
       "\n",
       "                                                sample_type storage_condition  \\\n",
       "index                                                                           \n",
       "6.6K_inhouse_Donor_3A_24h_RT.GGCAATTCAGACGCCT-1        PBMC            24h_RT   \n",
       "6.6K_inhouse_Donor_2_FROZEN.CGGCTAGAGCTATGCT-1         PBMC            frozen   \n",
       "6.6K_inhouse_Donor_3A_FROZEN.GCGCGATAGTTCGATC-1        PBMC            frozen   \n",
       "6.6K_inhouse_Donor_2_24h_RT.TACCTTAGTTCACGGC-1         PBMC            24h_RT   \n",
       "6.6K_inhouse_Donor_2_24h_RT.AACTCTTCAAGTTCTG-1         PBMC            24h_RT   \n",
       "\n",
       "                                                    donor      batch  \\\n",
       "index                                                                  \n",
       "6.6K_inhouse_Donor_3A_24h_RT.GGCAATTCAGACGCCT-1  Donor_3A  flowcell1   \n",
       "6.6K_inhouse_Donor_2_FROZEN.CGGCTAGAGCTATGCT-1    Donor_2  flowcell1   \n",
       "6.6K_inhouse_Donor_3A_FROZEN.GCGCGATAGTTCGATC-1  Donor_3A  flowcell1   \n",
       "6.6K_inhouse_Donor_2_24h_RT.TACCTTAGTTCACGGC-1    Donor_2  flowcell1   \n",
       "6.6K_inhouse_Donor_2_24h_RT.AACTCTTCAAGTTCTG-1    Donor_2  flowcell1   \n",
       "\n",
       "                                                 n_counts  n_genes  \\\n",
       "index                                                                \n",
       "6.6K_inhouse_Donor_3A_24h_RT.GGCAATTCAGACGCCT-1    2664.0      867   \n",
       "6.6K_inhouse_Donor_2_FROZEN.CGGCTAGAGCTATGCT-1     2057.0      724   \n",
       "6.6K_inhouse_Donor_3A_FROZEN.GCGCGATAGTTCGATC-1    4468.0     1144   \n",
       "6.6K_inhouse_Donor_2_24h_RT.TACCTTAGTTCACGGC-1     2723.0     1009   \n",
       "6.6K_inhouse_Donor_2_24h_RT.AACTCTTCAAGTTCTG-1    10092.0     1941   \n",
       "\n",
       "                                                 percent_mito louvain  \n",
       "index                                                                  \n",
       "6.6K_inhouse_Donor_3A_24h_RT.GGCAATTCAGACGCCT-1      0.046547       8  \n",
       "6.6K_inhouse_Donor_2_FROZEN.CGGCTAGAGCTATGCT-1       0.032572       2  \n",
       "6.6K_inhouse_Donor_3A_FROZEN.GCGCGATAGTTCGATC-1      0.017010       2  \n",
       "6.6K_inhouse_Donor_2_24h_RT.TACCTTAGTTCACGGC-1       0.053985       5  \n",
       "6.6K_inhouse_Donor_2_24h_RT.AACTCTTCAAGTTCTG-1       0.033987      16  "
      ]
     },
     "execution_count": 66,
     "metadata": {},
     "output_type": "execute_result"
    }
   ],
   "source": [
    "adata.obs.head()"
   ]
  },
  {
   "cell_type": "code",
   "execution_count": 67,
   "metadata": {},
   "outputs": [
    {
     "data": {
      "image/png": "[encoded data removed]",
      "text/plain": [
       "<Figure size 720x360 with 1 Axes>"
      ]
     },
     "execution_count": 67,
     "metadata": {
      "image/png": {
       "height": 339,
       "width": 698
      }
     },
     "output_type": "execute_result"
    }
   ],
   "source": [
    "bc.pl.celllabel_quant_boxplot(adata, subset_variable='batch', count_variable = 'louvain', condition_identifier='storage_condition')#, save_fig = False);"
   ]
  },
  {
   "cell_type": "markdown",
   "metadata": {},
   "source": [
    "# Split gene expression plots"
   ]
  },
  {
   "cell_type": "code",
   "execution_count": 68,
   "metadata": {},
   "outputs": [],
   "source": [
    "adata = bc.datasets.pbmc_storage_processed()\n",
    "# Split gene expression plots can only handle two conditions.\n",
    "adata_subset = adata[ adata.obs['donor'] != 'Donor_1']\n"
   ]
  },
  {
   "cell_type": "code",
   "execution_count": 69,
   "metadata": {},
   "outputs": [],
   "source": [
    "bc.pl.gene_expr_split(adata_subset, genes = ['RPS26'], split_variable= 'donor')"
   ]
  },
  {
   "cell_type": "code",
   "execution_count": 70,
   "metadata": {},
   "outputs": [],
   "source": [
    "bc.pl.gene_expr_split(adata_subset, genes = ['RPS26', 'RPS4X'], split_variable= 'donor')#, #group_variable = 'condition', \n",
    "                      #split_variable='condition')"
   ]
  },
  {
   "cell_type": "code",
   "execution_count": 71,
   "metadata": {},
   "outputs": [],
   "source": [
    "bc.pl.gene_expr_split(adata_subset,\n",
    "                      genes = ['RPS26', 'RPS4X'], \n",
    "                      label_split_variable= 'condition', \n",
    "                     split_variable= 'donor')"
   ]
  },
  {
   "cell_type": "markdown",
   "metadata": {},
   "source": [
    "# Helper function:\n",
    "\n",
    "## Conversion\n",
    "\n",
    "From symbol to ensembl and vice-versa."
   ]
  },
  {
   "cell_type": "code",
   "execution_count": 72,
   "metadata": {},
   "outputs": [
    {
     "name": "stdout",
     "output_type": "stream",
     "text": [
      "querying 1-2...done.\n",
      "Finished.\n"
     ]
    },
    {
     "data": {
      "text/plain": [
       "[{'gene': 'ENSG00000133703'},\n",
       " [{'gene': 'ENSG00000282928'}, {'gene': 'ENSG00000104814'}]]"
      ]
     },
     "execution_count": 72,
     "metadata": {},
     "output_type": "execute_result"
    }
   ],
   "source": [
    "bc.convert_symbol_to_ensembl( ['KRAS', 'MAP4K1'])"
   ]
  },
  {
   "cell_type": "code",
   "execution_count": 73,
   "metadata": {},
   "outputs": [
    {
     "name": "stdout",
     "output_type": "stream",
     "text": [
      "querying 1-2...done.\n",
      "Finished.\n"
     ]
    },
    {
     "data": {
      "text/plain": [
       "['MAP4K1', 'MAP4K1']"
      ]
     },
     "execution_count": 73,
     "metadata": {},
     "output_type": "execute_result"
    }
   ],
   "source": [
    "bc.convert_ensembl_to_symbol([ 'ENSG00000104814', 'ENSG00000282928' ])"
   ]
  }
 ],
 "metadata": {
  "kernelspec": {
   "display_name": "besca_s3",
   "language": "python",
   "name": "besca_s3"
  },
  "language_info": {
   "codemirror_mode": {
    "name": "ipython",
    "version": 3
   },
   "file_extension": ".py",
   "mimetype": "text/x-python",
   "name": "python",
   "nbconvert_exporter": "python",
   "pygments_lexer": "ipython3",
   "version": "3.6.10"
  }
 },
 "nbformat": 4,
 "nbformat_minor": 2
}
